{
 "cells": [
  {
   "cell_type": "code",
   "execution_count": 407,
   "metadata": {},
   "outputs": [],
   "source": [
    "import matplotlib\n",
    "import matplotlib.pyplot as plt\n",
    "import numpy as np\n",
    "import os\n",
    "import pandas as pd\n",
    "from pandas import Series\n",
    "from sklearn.base import BaseEstimator, TransformerMixin\n",
    "from sklearn.datasets import fetch_mldata\n",
    "from sklearn.ensemble import RandomForestClassifier\n",
    "from sklearn.linear_model import SGDClassifier\n",
    "from sklearn.metrics import confusion_matrix, accuracy_score, precision_score, recall_score, f1_score, precision_recall_curve, roc_curve, roc_auc_score\n",
    "from sklearn.model_selection import cross_val_score, cross_val_predict, GridSearchCV\n",
    "from sklearn.neighbors import KNeighborsClassifier\n",
    "from sklearn.pipeline import Pipeline, FeatureUnion\n",
    "from sklearn.preprocessing import Imputer, LabelBinarizer, StandardScaler\n",
    "\n",
    "%matplotlib inline\n",
    "\n",
    "import warnings\n",
    "# warnings.filterwarnings('ignore') # To ingnore warnings entirely\n",
    "warnings.filterwarnings(action=\"once\") # To see warning only once\n",
    "TITANIC_PATH = \"/home/zhach/code/scikit_ml/datasets/titanic/\""
   ]
  },
  {
   "cell_type": "code",
   "execution_count": 336,
   "metadata": {},
   "outputs": [],
   "source": [
    "class CustomBinarizer(BaseEstimator, TransformerMixin):\n",
    "    def __init__(self):\n",
    "        self.lb = LabelBinarizer()\n",
    "    def fit(self, X, y=None,**fit_params):\n",
    "        return self.lb.fit(X)\n",
    "    def transform(self, X):\n",
    "        return self.lb.transform(X)"
   ]
  },
  {
   "cell_type": "code",
   "execution_count": 329,
   "metadata": {},
   "outputs": [],
   "source": [
    "class DataFrameSelector(BaseEstimator, TransformerMixin):\n",
    "    def __init__(self, attribute_names):\n",
    "        self.attribute_names = attribute_names\n",
    "    def fit(self, X, y=None):\n",
    "        return self\n",
    "    def transform(self, X):\n",
    "        return X[self.attribute_names].values"
   ]
  },
  {
   "cell_type": "code",
   "execution_count": 372,
   "metadata": {},
   "outputs": [],
   "source": [
    "class CombinedAttributesAdder(BaseEstimator, TransformerMixin):\n",
    "    def fit(self, X, y=None):\n",
    "        return self\n",
    "    def transform(self, X, y=None):\n",
    "        a = [\"A\" in s[0] for s in X]\n",
    "        b = [\"B\" in s[0] for s in X]\n",
    "        c = [\"C\" in s[0] for s in X]\n",
    "        d = [\"D\" in s[0] for s in X]\n",
    "        e = [\"E\" in s[0] for s in X]\n",
    "        f = [\"F\" in s[0] for s in X]\n",
    "        return np.c_[a, b, c, d, e, f]"
   ]
  },
  {
   "cell_type": "code",
   "execution_count": 373,
   "metadata": {},
   "outputs": [
    {
     "name": "stdout",
     "output_type": "stream",
     "text": [
      "Loaded Data into Program\n"
     ]
    }
   ],
   "source": [
    "tit_train = pd.read_csv(os.path.join(TITANIC_PATH, \"train.csv\"))\n",
    "y_train = tit_train[\"Survived\"]\n",
    "X_train = tit_train.drop(\"Survived\", axis=1)\n",
    "tit_test = pd.read_csv(os.path.join(TITANIC_PATH, \"test.csv\"))\n",
    "y_test = tit_test[\"Survived\"]\n",
    "X_test = tit_test.drop(\"Survived\", axis=1)\n",
    "print \"Loaded Data into Program\""
   ]
  },
  {
   "cell_type": "code",
   "execution_count": 374,
   "metadata": {},
   "outputs": [
    {
     "name": "stdout",
     "output_type": "stream",
     "text": [
      "<class 'pandas.core.frame.DataFrame'>\n",
      "RangeIndex: 891 entries, 0 to 890\n",
      "Data columns (total 11 columns):\n",
      "PassengerId    891 non-null int64\n",
      "Pclass         891 non-null int64\n",
      "Name           891 non-null object\n",
      "Sex            891 non-null object\n",
      "Age            714 non-null float64\n",
      "SibSp          891 non-null int64\n",
      "Parch          891 non-null int64\n",
      "Ticket         891 non-null object\n",
      "Fare           891 non-null float64\n",
      "Cabin          204 non-null object\n",
      "Embarked       889 non-null object\n",
      "dtypes: float64(2), int64(4), object(5)\n",
      "memory usage: 76.6+ KB\n"
     ]
    },
    {
     "data": {
      "text/html": [
       "<div>\n",
       "<style scoped>\n",
       "    .dataframe tbody tr th:only-of-type {\n",
       "        vertical-align: middle;\n",
       "    }\n",
       "\n",
       "    .dataframe tbody tr th {\n",
       "        vertical-align: top;\n",
       "    }\n",
       "\n",
       "    .dataframe thead th {\n",
       "        text-align: right;\n",
       "    }\n",
       "</style>\n",
       "<table border=\"1\" class=\"dataframe\">\n",
       "  <thead>\n",
       "    <tr style=\"text-align: right;\">\n",
       "      <th></th>\n",
       "      <th>PassengerId</th>\n",
       "      <th>Pclass</th>\n",
       "      <th>Name</th>\n",
       "      <th>Sex</th>\n",
       "      <th>Age</th>\n",
       "      <th>SibSp</th>\n",
       "      <th>Parch</th>\n",
       "      <th>Ticket</th>\n",
       "      <th>Fare</th>\n",
       "      <th>Cabin</th>\n",
       "      <th>Embarked</th>\n",
       "    </tr>\n",
       "  </thead>\n",
       "  <tbody>\n",
       "    <tr>\n",
       "      <th>0</th>\n",
       "      <td>1</td>\n",
       "      <td>3</td>\n",
       "      <td>Braund, Mr. Owen Harris</td>\n",
       "      <td>male</td>\n",
       "      <td>22.0</td>\n",
       "      <td>1</td>\n",
       "      <td>0</td>\n",
       "      <td>A/5 21171</td>\n",
       "      <td>7.2500</td>\n",
       "      <td>NaN</td>\n",
       "      <td>S</td>\n",
       "    </tr>\n",
       "    <tr>\n",
       "      <th>1</th>\n",
       "      <td>2</td>\n",
       "      <td>1</td>\n",
       "      <td>Cumings, Mrs. John Bradley (Florence Briggs Th...</td>\n",
       "      <td>female</td>\n",
       "      <td>38.0</td>\n",
       "      <td>1</td>\n",
       "      <td>0</td>\n",
       "      <td>PC 17599</td>\n",
       "      <td>71.2833</td>\n",
       "      <td>C85</td>\n",
       "      <td>C</td>\n",
       "    </tr>\n",
       "    <tr>\n",
       "      <th>2</th>\n",
       "      <td>3</td>\n",
       "      <td>3</td>\n",
       "      <td>Heikkinen, Miss. Laina</td>\n",
       "      <td>female</td>\n",
       "      <td>26.0</td>\n",
       "      <td>0</td>\n",
       "      <td>0</td>\n",
       "      <td>STON/O2. 3101282</td>\n",
       "      <td>7.9250</td>\n",
       "      <td>NaN</td>\n",
       "      <td>S</td>\n",
       "    </tr>\n",
       "    <tr>\n",
       "      <th>3</th>\n",
       "      <td>4</td>\n",
       "      <td>1</td>\n",
       "      <td>Futrelle, Mrs. Jacques Heath (Lily May Peel)</td>\n",
       "      <td>female</td>\n",
       "      <td>35.0</td>\n",
       "      <td>1</td>\n",
       "      <td>0</td>\n",
       "      <td>113803</td>\n",
       "      <td>53.1000</td>\n",
       "      <td>C123</td>\n",
       "      <td>S</td>\n",
       "    </tr>\n",
       "    <tr>\n",
       "      <th>4</th>\n",
       "      <td>5</td>\n",
       "      <td>3</td>\n",
       "      <td>Allen, Mr. William Henry</td>\n",
       "      <td>male</td>\n",
       "      <td>35.0</td>\n",
       "      <td>0</td>\n",
       "      <td>0</td>\n",
       "      <td>373450</td>\n",
       "      <td>8.0500</td>\n",
       "      <td>NaN</td>\n",
       "      <td>S</td>\n",
       "    </tr>\n",
       "  </tbody>\n",
       "</table>\n",
       "</div>"
      ],
      "text/plain": [
       "   PassengerId  Pclass                                               Name  \\\n",
       "0            1       3                            Braund, Mr. Owen Harris   \n",
       "1            2       1  Cumings, Mrs. John Bradley (Florence Briggs Th...   \n",
       "2            3       3                             Heikkinen, Miss. Laina   \n",
       "3            4       1       Futrelle, Mrs. Jacques Heath (Lily May Peel)   \n",
       "4            5       3                           Allen, Mr. William Henry   \n",
       "\n",
       "      Sex   Age  SibSp  Parch            Ticket     Fare Cabin Embarked  \n",
       "0    male  22.0      1      0         A/5 21171   7.2500   NaN        S  \n",
       "1  female  38.0      1      0          PC 17599  71.2833   C85        C  \n",
       "2  female  26.0      0      0  STON/O2. 3101282   7.9250   NaN        S  \n",
       "3  female  35.0      1      0            113803  53.1000  C123        S  \n",
       "4    male  35.0      0      0            373450   8.0500   NaN        S  "
      ]
     },
     "execution_count": 374,
     "metadata": {},
     "output_type": "execute_result"
    }
   ],
   "source": [
    "X_train.info()\n",
    "X_train.head()"
   ]
  },
  {
   "cell_type": "code",
   "execution_count": 438,
   "metadata": {},
   "outputs": [],
   "source": [
    "replacement_value = X_train['Age'].mean()\n",
    "X_train.fillna({'Age': replacement_value,\n",
    "                'Embarked': '',\n",
    "                'Cabin': ''\n",
    "               }, inplace=True)\n",
    "X_test.fillna({'Age': replacement_value,\n",
    "                'Embarked': '',\n",
    "                'Cabin': ''\n",
    "               }, inplace=True)"
   ]
  },
  {
   "cell_type": "code",
   "execution_count": 439,
   "metadata": {},
   "outputs": [],
   "source": [
    "num_attribs = [\"Age\", \"SibSp\", \"Parch\", \"Fare\"]\n",
    "\n",
    "num_pipeline = Pipeline([\n",
    "    ('selector', DataFrameSelector(num_attribs)),\n",
    "    ('imputer', Imputer(strategy='median')),\n",
    "    ('std_scaler', StandardScaler()),\n",
    "])\n",
    "\n",
    "cab_pipeline = Pipeline([\n",
    "    ('selector', DataFrameSelector([\"Cabin\"])),\n",
    "    ('attribs_adder', CombinedAttributesAdder()),\n",
    "])\n",
    "\n",
    "sex_pipeline = Pipeline([\n",
    "    ('selector', DataFrameSelector(['Sex'])),\n",
    "    ('label_bin', CustomBinarizer()),\n",
    "])\n",
    "\n",
    "emb_pipeline = Pipeline([\n",
    "    ('selector', DataFrameSelector([\"Embarked\"])),\n",
    "    ('label_bin', CustomBinarizer()),\n",
    "])\n",
    "\n",
    "pc_pipeline = Pipeline([\n",
    "    ('selector', DataFrameSelector([\"Pclass\"])),\n",
    "    ('label_bin', CustomBinarizer()),\n",
    "])\n",
    "\n",
    "full_pipeline = FeatureUnion(transformer_list=[\n",
    "    ('num_pipeline', num_pipeline),\n",
    "    (\"cab_pipeline\", cab_pipeline),\n",
    "    ('sex_pipeline', sex_pipeline),\n",
    "    ('emb_pipeline', emb_pipeline),\n",
    "    ('pc_pipeline', pc_pipeline),\n",
    "])"
   ]
  },
  {
   "cell_type": "code",
   "execution_count": 440,
   "metadata": {},
   "outputs": [
    {
     "name": "stdout",
     "output_type": "stream",
     "text": [
      "[ 0.63878901 -0.4745452  -0.47367361  0.96235332  0.          1.          0.\n",
      "  0.          0.          0.          0.          0.          0.          0.\n",
      "  1.          0.          0.        ]\n",
      "PassengerId                     62\n",
      "Pclass                           1\n",
      "Name           Icard, Miss. Amelie\n",
      "Sex                         female\n",
      "Age                             38\n",
      "SibSp                            0\n",
      "Parch                            0\n",
      "Ticket                      113572\n",
      "Fare                            80\n",
      "Cabin                          B28\n",
      "Embarked                          \n",
      "Name: 61, dtype: object\n"
     ]
    }
   ],
   "source": [
    "full_pipeline.fit(X_train)\n",
    "X_train_prepared = full_pipeline.transform(X_train)\n",
    "X_train_prepared = np.c_[X_train_prepared[:,:11], X_train_prepared[:,12:]]\n",
    "print X_train_prepared[61]\n",
    "print X_train.iloc[61]"
   ]
  },
  {
   "cell_type": "code",
   "execution_count": 399,
   "metadata": {},
   "outputs": [],
   "source": [
    "def please_precision_recall_f1(clf, X, y, cv):\n",
    "    y_pred = cross_val_predict(clf, X, y, cv=cv)\n",
    "    precision = precision_score(y, y_pred)\n",
    "    recall = recall_score(y, y_pred)\n",
    "    f1 = f1_score(y, y_pred, average=\"macro\")\n",
    "    return precision, recall, f1"
   ]
  },
  {
   "cell_type": "code",
   "execution_count": 443,
   "metadata": {},
   "outputs": [
    {
     "name": "stdout",
     "output_type": "stream",
     "text": [
      "Forest Accuracy: 0.807040815494\n",
      "SGD Accuracy 0.757545126635\n",
      "KNN Accuracy 0.793582281215\n",
      "Forest PRF1: (0.7682539682539683, 0.70760233918128657, 0.79145205479452052)\n",
      "SGD PRF1 (0.69476744186046513, 0.69883040935672514, 0.75350599050882083)\n",
      "KNN PRF1 (0.75320512820512819, 0.6871345029239766, 0.77776693343743908)\n"
     ]
    }
   ],
   "source": [
    "for_clf = RandomForestClassifier()\n",
    "sgd_clf = SGDClassifier()\n",
    "knn_clf = KNeighborsClassifier()\n",
    "\n",
    "print \"Forest Accuracy:\", cross_val_score(for_clf, X_train_prepared, y_train, cv=5, scoring=\"accuracy\").mean()\n",
    "print \"SGD Accuracy\", cross_val_score(sgd_clf, X_train_prepared, y_train, cv=5, scoring=\"accuracy\").mean()\n",
    "print \"KNN Accuracy\", cross_val_score(knn_clf, X_train_prepared, y_train, cv=5, scoring=\"accuracy\").mean()\n",
    "print \"Forest PRF1:\", please_precision_recall_f1(for_clf, X_train_prepared, y_train, 5)\n",
    "print \"SGD PRF1\", please_precision_recall_f1(sgd_clf, X_train_prepared, y_train, 5)\n",
    "print \"KNN PRF1\", please_precision_recall_f1(knn_clf, X_train_prepared, y_train, 5)"
   ]
  },
  {
   "cell_type": "code",
   "execution_count": 452,
   "metadata": {},
   "outputs": [
    {
     "name": "stdout",
     "output_type": "stream",
     "text": [
      "0.83014354067 0.787234042553 0.730263157895 0.813462058215\n"
     ]
    },
    {
     "data": {
      "text/plain": [
       "[(0.27647193769088296, 'Male'),\n",
       " (0.26211985207369026, 'Age'),\n",
       " (0.20487845611037009, 'Fare'),\n",
       " (0.044513145355716363, 'Parch'),\n",
       " (0.038162866249505205, 'SibSp'),\n",
       " (0.019903482247835148, 'Embarked from Southampton'),\n",
       " (0.017685115171905443, 'Cabin E'),\n",
       " (0.011163303853410505, 'Embarked from Queenstown'),\n",
       " (0.010492723188565384, 'Cabin B'),\n",
       " (0.0099369569529755546, 'Cabin D'),\n",
       " (0.0059505007837758628, 'Cabin F'),\n",
       " (0.0057655270975319854, 'Cabin C'),\n",
       " (0.004060507411502671, 'Embarked from Cherbourg'),\n",
       " (0.0035429694208949868, 'Cabin A')]"
      ]
     },
     "execution_count": 452,
     "metadata": {},
     "output_type": "execute_result"
    }
   ],
   "source": [
    "attribs = [\"Age\", \"SibSp\", \"Parch\", \"Fare\", \n",
    "           \"Cabin A\", \"Cabin B\", \"Cabin C\", \"Cabin D\", \"Cabin E\", \"Cabin F\", \n",
    "           \"Male\", \n",
    "           \"Embarked from Southampton\", \"Embarked from Cherbourg\", \"Embarked from Queenstown\",\n",
    "          ]\n",
    "X_test_prepared = full_pipeline.transform(X_test)\n",
    "X_test_prepared = np.c_[X_test_prepared[:,:11], X_test_prepared[:,12:]]\n",
    "\n",
    "for_clf.fit(X_train_prepared, y_train)\n",
    "y_pred = for_clf.predict(X_test_prepared)\n",
    "accuracy = accuracy_score(y_test, y_pred)\n",
    "precision = precision_score(y_test, y_pred)\n",
    "recall = recall_score(y_test, y_pred)\n",
    "f1 = f1_score(y_test, y_pred, average=\"macro\")\n",
    "print accuracy, precision, recall, f1\n",
    "sorted(zip(for_clf.feature_importances_, attribs), reverse=True)"
   ]
  },
  {
   "cell_type": "code",
   "execution_count": null,
   "metadata": {},
   "outputs": [],
   "source": []
  }
 ],
 "metadata": {
  "kernelspec": {
   "display_name": "Python 2",
   "language": "python",
   "name": "python2"
  },
  "language_info": {
   "codemirror_mode": {
    "name": "ipython",
    "version": 2
   },
   "file_extension": ".py",
   "mimetype": "text/x-python",
   "name": "python",
   "nbconvert_exporter": "python",
   "pygments_lexer": "ipython2",
   "version": "2.7.13"
  }
 },
 "nbformat": 4,
 "nbformat_minor": 2
}
