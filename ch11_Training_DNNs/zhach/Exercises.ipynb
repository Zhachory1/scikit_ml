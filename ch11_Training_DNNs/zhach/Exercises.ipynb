{
 "cells": [
  {
   "cell_type": "code",
   "execution_count": 1,
   "metadata": {},
   "outputs": [
    {
     "name": "stdout",
     "output_type": "stream",
     "text": [
      "(u'Tensorflow:', '1.1.0')\n",
      "(u'Python Version:', '2.7.14 |Anaconda, Inc.| (default, Dec  7 2017, 17:05:42) \\n[GCC 7.2.0]')\n"
     ]
    }
   ],
   "source": [
    "import numpy as np\n",
    "import random\n",
    "import os\n",
    "from datetime import datetime\n",
    "from functools import partial\n",
    "from itertools import compress\n",
    "\n",
    "import tensorflow as tf\n",
    "from tensorflow.examples.tutorials.mnist import input_data\n",
    "print(\"Tensorflow:\", tf.__version__)\n",
    "\n",
    "import sys\n",
    "print(\"Python Version:\", sys.version)\n",
    "\n",
    "# To support both python 2 and python 3\n",
    "from __future__ import division, print_function, unicode_literals\n",
    "\n",
    "# to make this notebook's output stable across runs\n",
    "def reset_graph(seed=42):\n",
    "    tf.reset_default_graph()\n",
    "    tf.set_random_seed(seed)\n",
    "    np.random.seed(seed)\n",
    "\n",
    "# To plot pretty figures\n",
    "%matplotlib inline\n",
    "import matplotlib\n",
    "import matplotlib.pyplot as plt\n",
    "plt.rcParams['axes.labelsize'] = 14\n",
    "plt.rcParams['xtick.labelsize'] = 12\n",
    "plt.rcParams['ytick.labelsize'] = 12\n",
    "\n",
    "def new_logdir():\n",
    "    now = datetime.utcnow().strftime(\"%Y%m%d%H%M%S\")\n",
    "    root_logdir = \"tf_logs\"\n",
    "    return \"{}/run-{}/\".format(root_logdir, now)"
   ]
  },
  {
   "cell_type": "markdown",
   "metadata": {},
   "source": [
    "# Exercise 1\n",
    "Is it okay to initialize all the weights to the same value as long as that value is selected randomly using He Initialization?\n",
    "\n",
    "\n",
    "\n",
    "# Exercise 2\n",
    "Is it okay to initialize the bias terms to 0?\n",
    "\n",
    "\n",
    "\n",
    "# Exercise 3\n",
    "Name 3 advantages of the ELU activation function over the ReLU?\n",
    "1. It has a constant derivative over the entire X range\n",
    "2. Bloop\n",
    "3. Bloop\n",
    "\n",
    "# Exercise 4\n",
    "In which cases would you want to use each of the following activation functions?\n",
    "1. ELU:\n",
    "2. Leaky ReLU (and varients):\n",
    "3. ReLU: \n",
    "4. Tanh:\n",
    "5. Logistic:\n",
    "6. Softmax: to use on the output layer to output probabilities.\n",
    "\n",
    "# Exercise 5\n",
    "What may happen is you set the momentum hyperparameter too close to 1 when using the `MomentOptimizer`?\n",
    "\n",
    "It won't actually take the gradients into account. Similar to using a very high learning rate, it might over jump to optimum minimum and take a long time to converge.\n",
    "\n",
    "# Exercise 6\n",
    "Name three ways you can produce a sparse model?\n",
    "1. You can trim weights to 0 when it's below a certain threshold.\n",
    "2. You can use a strong L1 regularizer (allows 0 weights).\n",
    "3. You can use FTLR, which is a crazy algorithm that comes up with the weights on the fly based on other parameters.\n",
    "\n",
    "# Exercise 7 \n",
    "Does dropout slow down training? Does it slow down inference? \n",
    "\n",
    "It does slow down training because it will take a while for it to converge, but it shouldn't slow down inference because we are not performing dropout at that stage."
   ]
  },
  {
   "cell_type": "markdown",
   "metadata": {},
   "source": [
    "# Exercise 8"
   ]
  },
  {
   "cell_type": "code",
   "execution_count": 2,
   "metadata": {},
   "outputs": [
    {
     "name": "stdout",
     "output_type": "stream",
     "text": [
      "Extracting /tmp/data/train-images-idx3-ubyte.gz\n",
      "Extracting /tmp/data/train-labels-idx1-ubyte.gz\n",
      "Extracting /tmp/data/t10k-images-idx3-ubyte.gz\n",
      "Extracting /tmp/data/t10k-labels-idx1-ubyte.gz\n"
     ]
    }
   ],
   "source": [
    "mnist = input_data.read_data_sets(\"/tmp/data/\")"
   ]
  },
  {
   "cell_type": "code",
   "execution_count": 3,
   "metadata": {},
   "outputs": [
    {
     "name": "stdout",
     "output_type": "stream",
     "text": [
      "[3 4 1 1 0]\n",
      "[7 6 8 9 8]\n"
     ]
    }
   ],
   "source": [
    "X_train = mnist.train.images\n",
    "X_test = mnist.test.images\n",
    "y_train = mnist.train.labels.astype(\"int\")\n",
    "y_test = mnist.test.labels.astype(\"int\")\n",
    "\n",
    "keep_l4_train = np.array([x <= 4 for x in y_train])\n",
    "keep_l4_test = np.array([x <= 4 for x in y_test])\n",
    "\n",
    "X_train_l4 = X_train[keep_l4_train]\n",
    "X_test_l4 = X_test[keep_l4_test]\n",
    "y_train_l4 = y_train[keep_l4_train]\n",
    "y_test_l4 = y_test[keep_l4_test]\n",
    "\n",
    "X_train_g5 = X_train[np.invert(keep_l4_train)]\n",
    "X_test_g5 = X_test[np.invert(keep_l4_test)]\n",
    "y_train_g5 = y_train[np.invert(keep_l4_train)]\n",
    "y_test_g5 = y_test[np.invert(keep_l4_test)]\n",
    "\n",
    "print(y_train_l4[:5])\n",
    "print(y_train_g5[:5])"
   ]
  },
  {
   "cell_type": "code",
   "execution_count": 4,
   "metadata": {},
   "outputs": [
    {
     "name": "stdout",
     "output_type": "stream",
     "text": [
      "Ready!\n"
     ]
    }
   ],
   "source": [
    "# 1) DNN with 5L[100]N, He, and ELU\n",
    "# 2) Adam, and Early stopping. \n",
    "# 3) Save model and checkpoints.\n",
    "# 4) Train on 0-4 MNIST\n",
    "# 5) Tune with cross-validation. Precision?\n",
    "# 6) Batch-Normalization. Compare?\n",
    "# 7) Overfitting? Use Drop. How about now?\n",
    "\n",
    "n_inputs = 28*28\n",
    "layer_sizes = [100, 100, 100, 100, 100]\n",
    "n_outputs = 5\n",
    "\n",
    "lr = 0.01\n",
    "\n",
    "he_init = tf.contrib.layers.variance_scaling_initializer()\n",
    "elu = tf.nn.elu\n",
    "my_dense_layer = partial(tf.layers.dense, activation=elu, kernel_initializer=he_init)\n",
    "\n",
    "with tf.name_scope(\"inputs\"):\n",
    "    X = tf.placeholder(tf.float32, shape=(None, n_inputs), name=\"X\")\n",
    "    y = tf.placeholder(tf.int64, shape=(None), name=\"y\")\n",
    "    \n",
    "with tf.name_scope(\"dnn\"):\n",
    "    hidden = []\n",
    "    last_hidden = X\n",
    "    for i in xrange(len(layer_sizes)):\n",
    "        hidden.append(my_dense_layer(last_hidden, layer_sizes[i], name=\"hidden\"+str(i)))\n",
    "        last_hidden = hidden[-1]\n",
    "    logits = tf.layers.dense(last_hidden, n_outputs, name=\"outputs\")\n",
    "\n",
    "with tf.name_scope(\"loss\"):\n",
    "    xentropy = tf.nn.sparse_softmax_cross_entropy_with_logits(labels=y, logits=logits)\n",
    "    loss = tf.reduce_mean(xentropy, name=\"loss\")\n",
    "    \n",
    "with tf.name_scope(\"train\"):\n",
    "    optimizer = tf.train.AdamOptimizer(learning_rate=lr)\n",
    "    train = optimizer.minimize(loss)\n",
    "    \n",
    "with tf.name_scope(\"eval\"):\n",
    "    correct = tf.nn.in_top_k(logits, y, 1)\n",
    "    pre_precision = tf.metrics.precision(y, logits)\n",
    "    accuracy = tf.reduce_mean(tf.cast(correct, tf.float32))\n",
    "    precision = tf.reduce_mean(tf.cast(pre_precision, tf.float32))\n",
    "    acc_sum = tf.summary.scalar(\"Accuracy\", accuracy)\n",
    "    pre_sum = tf.summary.scalar(\"Precision\", precision)\n",
    "\n",
    "init = tf.global_variables_initializer()\n",
    "saver = tf.train.Saver()\n",
    "\n",
    "print(\"Ready!\")"
   ]
  },
  {
   "cell_type": "code",
   "execution_count": 5,
   "metadata": {},
   "outputs": [],
   "source": [
    "def make_batch(X, y, batch_size):\n",
    "    idxs = np.random.randint(0, len(X), batch_size)\n",
    "    return X[idxs], y[idxs]"
   ]
  },
  {
   "cell_type": "code",
   "execution_count": 6,
   "metadata": {},
   "outputs": [
    {
     "ename": "FailedPreconditionError",
     "evalue": "Attempting to use uninitialized value eval/precision/false_positives/count\n\t [[Node: eval/precision/false_positives/count/read = Identity[T=DT_FLOAT, _class=[\"loc:@eval/precision/false_positives/count\"], _device=\"/job:localhost/replica:0/task:0/cpu:0\"](eval/precision/false_positives/count)]]\n\nCaused by op u'eval/precision/false_positives/count/read', defined at:\n  File \"/home/zhach/miniconda2/lib/python2.7/runpy.py\", line 174, in _run_module_as_main\n    \"__main__\", fname, loader, pkg_name)\n  File \"/home/zhach/miniconda2/lib/python2.7/runpy.py\", line 72, in _run_code\n    exec code in run_globals\n  File \"/home/zhach/miniconda2/lib/python2.7/site-packages/ipykernel_launcher.py\", line 16, in <module>\n    app.launch_new_instance()\n  File \"/home/zhach/miniconda2/lib/python2.7/site-packages/traitlets/config/application.py\", line 658, in launch_instance\n    app.start()\n  File \"/home/zhach/miniconda2/lib/python2.7/site-packages/ipykernel/kernelapp.py\", line 478, in start\n    self.io_loop.start()\n  File \"/home/zhach/miniconda2/lib/python2.7/site-packages/zmq/eventloop/ioloop.py\", line 177, in start\n    super(ZMQIOLoop, self).start()\n  File \"/home/zhach/miniconda2/lib/python2.7/site-packages/tornado/ioloop.py\", line 888, in start\n    handler_func(fd_obj, events)\n  File \"/home/zhach/miniconda2/lib/python2.7/site-packages/tornado/stack_context.py\", line 277, in null_wrapper\n    return fn(*args, **kwargs)\n  File \"/home/zhach/miniconda2/lib/python2.7/site-packages/zmq/eventloop/zmqstream.py\", line 440, in _handle_events\n    self._handle_recv()\n  File \"/home/zhach/miniconda2/lib/python2.7/site-packages/zmq/eventloop/zmqstream.py\", line 472, in _handle_recv\n    self._run_callback(callback, msg)\n  File \"/home/zhach/miniconda2/lib/python2.7/site-packages/zmq/eventloop/zmqstream.py\", line 414, in _run_callback\n    callback(*args, **kwargs)\n  File \"/home/zhach/miniconda2/lib/python2.7/site-packages/tornado/stack_context.py\", line 277, in null_wrapper\n    return fn(*args, **kwargs)\n  File \"/home/zhach/miniconda2/lib/python2.7/site-packages/ipykernel/kernelbase.py\", line 281, in dispatcher\n    return self.dispatch_shell(stream, msg)\n  File \"/home/zhach/miniconda2/lib/python2.7/site-packages/ipykernel/kernelbase.py\", line 232, in dispatch_shell\n    handler(stream, idents, msg)\n  File \"/home/zhach/miniconda2/lib/python2.7/site-packages/ipykernel/kernelbase.py\", line 397, in execute_request\n    user_expressions, allow_stdin)\n  File \"/home/zhach/miniconda2/lib/python2.7/site-packages/ipykernel/ipkernel.py\", line 208, in do_execute\n    res = shell.run_cell(code, store_history=store_history, silent=silent)\n  File \"/home/zhach/miniconda2/lib/python2.7/site-packages/ipykernel/zmqshell.py\", line 533, in run_cell\n    return super(ZMQInteractiveShell, self).run_cell(*args, **kwargs)\n  File \"/home/zhach/miniconda2/lib/python2.7/site-packages/IPython/core/interactiveshell.py\", line 2718, in run_cell\n    interactivity=interactivity, compiler=compiler, result=result)\n  File \"/home/zhach/miniconda2/lib/python2.7/site-packages/IPython/core/interactiveshell.py\", line 2822, in run_ast_nodes\n    if self.run_code(code, result):\n  File \"/home/zhach/miniconda2/lib/python2.7/site-packages/IPython/core/interactiveshell.py\", line 2882, in run_code\n    exec(code_obj, self.user_global_ns, self.user_ns)\n  File \"<ipython-input-4-8429fe23228f>\", line 41, in <module>\n    pre_precision = tf.metrics.precision(y, logits)\n  File \"/home/zhach/miniconda2/lib/python2.7/site-packages/tensorflow/python/ops/metrics_impl.py\", line 1380, in precision\n    updates_collections=None, name=None)\n  File \"/home/zhach/miniconda2/lib/python2.7/site-packages/tensorflow/python/ops/metrics_impl.py\", line 1319, in false_positives\n    updates_collections)\n  File \"/home/zhach/miniconda2/lib/python2.7/site-packages/tensorflow/python/ops/metrics_impl.py\", line 1211, in _count_condition\n    count = _create_local('count', shape=[])\n  File \"/home/zhach/miniconda2/lib/python2.7/site-packages/tensorflow/python/ops/metrics_impl.py\", line 197, in _create_local\n    validate_shape=validate_shape)\n  File \"/home/zhach/miniconda2/lib/python2.7/site-packages/tensorflow/python/ops/variables.py\", line 197, in __init__\n    expected_shape=expected_shape)\n  File \"/home/zhach/miniconda2/lib/python2.7/site-packages/tensorflow/python/ops/variables.py\", line 316, in _init_from_args\n    self._snapshot = array_ops.identity(self._variable, name=\"read\")\n  File \"/home/zhach/miniconda2/lib/python2.7/site-packages/tensorflow/python/ops/gen_array_ops.py\", line 1338, in identity\n    result = _op_def_lib.apply_op(\"Identity\", input=input, name=name)\n  File \"/home/zhach/miniconda2/lib/python2.7/site-packages/tensorflow/python/framework/op_def_library.py\", line 768, in apply_op\n    op_def=op_def)\n  File \"/home/zhach/miniconda2/lib/python2.7/site-packages/tensorflow/python/framework/ops.py\", line 2336, in create_op\n    original_op=self._default_original_op, op_def=op_def)\n  File \"/home/zhach/miniconda2/lib/python2.7/site-packages/tensorflow/python/framework/ops.py\", line 1228, in __init__\n    self._traceback = _extract_stack()\n\nFailedPreconditionError (see above for traceback): Attempting to use uninitialized value eval/precision/false_positives/count\n\t [[Node: eval/precision/false_positives/count/read = Identity[T=DT_FLOAT, _class=[\"loc:@eval/precision/false_positives/count\"], _device=\"/job:localhost/replica:0/task:0/cpu:0\"](eval/precision/false_positives/count)]]\n",
     "output_type": "error",
     "traceback": [
      "\u001b[0;31m---------------------------------------------------------------------------\u001b[0m",
      "\u001b[0;31mFailedPreconditionError\u001b[0m                   Traceback (most recent call last)",
      "\u001b[0;32m<ipython-input-6-f8bcb1110133>\u001b[0m in \u001b[0;36m<module>\u001b[0;34m()\u001b[0m\n\u001b[1;32m     19\u001b[0m         acc_train, train_sum, pre_train, pre_train_sum = sess.run(\n\u001b[1;32m     20\u001b[0m             \u001b[0;34m[\u001b[0m\u001b[0maccuracy\u001b[0m\u001b[0;34m,\u001b[0m \u001b[0macc_sum\u001b[0m\u001b[0;34m,\u001b[0m \u001b[0mprecision\u001b[0m\u001b[0;34m,\u001b[0m \u001b[0mpre_sum\u001b[0m\u001b[0;34m]\u001b[0m\u001b[0;34m,\u001b[0m\u001b[0;34m\u001b[0m\u001b[0m\n\u001b[0;32m---> 21\u001b[0;31m             feed_dict={X:X_batch, y:y_batch})\n\u001b[0m\u001b[1;32m     22\u001b[0m         acc_test, test_sum, pre_test, pre_test_sum = sess.run(\n\u001b[1;32m     23\u001b[0m             \u001b[0;34m[\u001b[0m\u001b[0maccuracy\u001b[0m\u001b[0;34m,\u001b[0m \u001b[0macc_sum\u001b[0m\u001b[0;34m,\u001b[0m \u001b[0mprecision\u001b[0m\u001b[0;34m,\u001b[0m \u001b[0mpre_sum\u001b[0m\u001b[0;34m]\u001b[0m\u001b[0;34m,\u001b[0m\u001b[0;34m\u001b[0m\u001b[0m\n",
      "\u001b[0;32m/home/zhach/miniconda2/lib/python2.7/site-packages/tensorflow/python/client/session.pyc\u001b[0m in \u001b[0;36mrun\u001b[0;34m(self, fetches, feed_dict, options, run_metadata)\u001b[0m\n\u001b[1;32m    776\u001b[0m     \u001b[0;32mtry\u001b[0m\u001b[0;34m:\u001b[0m\u001b[0;34m\u001b[0m\u001b[0m\n\u001b[1;32m    777\u001b[0m       result = self._run(None, fetches, feed_dict, options_ptr,\n\u001b[0;32m--> 778\u001b[0;31m                          run_metadata_ptr)\n\u001b[0m\u001b[1;32m    779\u001b[0m       \u001b[0;32mif\u001b[0m \u001b[0mrun_metadata\u001b[0m\u001b[0;34m:\u001b[0m\u001b[0;34m\u001b[0m\u001b[0m\n\u001b[1;32m    780\u001b[0m         \u001b[0mproto_data\u001b[0m \u001b[0;34m=\u001b[0m \u001b[0mtf_session\u001b[0m\u001b[0;34m.\u001b[0m\u001b[0mTF_GetBuffer\u001b[0m\u001b[0;34m(\u001b[0m\u001b[0mrun_metadata_ptr\u001b[0m\u001b[0;34m)\u001b[0m\u001b[0;34m\u001b[0m\u001b[0m\n",
      "\u001b[0;32m/home/zhach/miniconda2/lib/python2.7/site-packages/tensorflow/python/client/session.pyc\u001b[0m in \u001b[0;36m_run\u001b[0;34m(self, handle, fetches, feed_dict, options, run_metadata)\u001b[0m\n\u001b[1;32m    980\u001b[0m     \u001b[0;32mif\u001b[0m \u001b[0mfinal_fetches\u001b[0m \u001b[0;32mor\u001b[0m \u001b[0mfinal_targets\u001b[0m\u001b[0;34m:\u001b[0m\u001b[0;34m\u001b[0m\u001b[0m\n\u001b[1;32m    981\u001b[0m       results = self._do_run(handle, final_targets, final_fetches,\n\u001b[0;32m--> 982\u001b[0;31m                              feed_dict_string, options, run_metadata)\n\u001b[0m\u001b[1;32m    983\u001b[0m     \u001b[0;32melse\u001b[0m\u001b[0;34m:\u001b[0m\u001b[0;34m\u001b[0m\u001b[0m\n\u001b[1;32m    984\u001b[0m       \u001b[0mresults\u001b[0m \u001b[0;34m=\u001b[0m \u001b[0;34m[\u001b[0m\u001b[0;34m]\u001b[0m\u001b[0;34m\u001b[0m\u001b[0m\n",
      "\u001b[0;32m/home/zhach/miniconda2/lib/python2.7/site-packages/tensorflow/python/client/session.pyc\u001b[0m in \u001b[0;36m_do_run\u001b[0;34m(self, handle, target_list, fetch_list, feed_dict, options, run_metadata)\u001b[0m\n\u001b[1;32m   1030\u001b[0m     \u001b[0;32mif\u001b[0m \u001b[0mhandle\u001b[0m \u001b[0;32mis\u001b[0m \u001b[0mNone\u001b[0m\u001b[0;34m:\u001b[0m\u001b[0;34m\u001b[0m\u001b[0m\n\u001b[1;32m   1031\u001b[0m       return self._do_call(_run_fn, self._session, feed_dict, fetch_list,\n\u001b[0;32m-> 1032\u001b[0;31m                            target_list, options, run_metadata)\n\u001b[0m\u001b[1;32m   1033\u001b[0m     \u001b[0;32melse\u001b[0m\u001b[0;34m:\u001b[0m\u001b[0;34m\u001b[0m\u001b[0m\n\u001b[1;32m   1034\u001b[0m       return self._do_call(_prun_fn, self._session, handle, feed_dict,\n",
      "\u001b[0;32m/home/zhach/miniconda2/lib/python2.7/site-packages/tensorflow/python/client/session.pyc\u001b[0m in \u001b[0;36m_do_call\u001b[0;34m(self, fn, *args)\u001b[0m\n\u001b[1;32m   1050\u001b[0m         \u001b[0;32mexcept\u001b[0m \u001b[0mKeyError\u001b[0m\u001b[0;34m:\u001b[0m\u001b[0;34m\u001b[0m\u001b[0m\n\u001b[1;32m   1051\u001b[0m           \u001b[0;32mpass\u001b[0m\u001b[0;34m\u001b[0m\u001b[0m\n\u001b[0;32m-> 1052\u001b[0;31m       \u001b[0;32mraise\u001b[0m \u001b[0mtype\u001b[0m\u001b[0;34m(\u001b[0m\u001b[0me\u001b[0m\u001b[0;34m)\u001b[0m\u001b[0;34m(\u001b[0m\u001b[0mnode_def\u001b[0m\u001b[0;34m,\u001b[0m \u001b[0mop\u001b[0m\u001b[0;34m,\u001b[0m \u001b[0mmessage\u001b[0m\u001b[0;34m)\u001b[0m\u001b[0;34m\u001b[0m\u001b[0m\n\u001b[0m\u001b[1;32m   1053\u001b[0m \u001b[0;34m\u001b[0m\u001b[0m\n\u001b[1;32m   1054\u001b[0m   \u001b[0;32mdef\u001b[0m \u001b[0m_extend_graph\u001b[0m\u001b[0;34m(\u001b[0m\u001b[0mself\u001b[0m\u001b[0;34m)\u001b[0m\u001b[0;34m:\u001b[0m\u001b[0;34m\u001b[0m\u001b[0m\n",
      "\u001b[0;31mFailedPreconditionError\u001b[0m: Attempting to use uninitialized value eval/precision/false_positives/count\n\t [[Node: eval/precision/false_positives/count/read = Identity[T=DT_FLOAT, _class=[\"loc:@eval/precision/false_positives/count\"], _device=\"/job:localhost/replica:0/task:0/cpu:0\"](eval/precision/false_positives/count)]]\n\nCaused by op u'eval/precision/false_positives/count/read', defined at:\n  File \"/home/zhach/miniconda2/lib/python2.7/runpy.py\", line 174, in _run_module_as_main\n    \"__main__\", fname, loader, pkg_name)\n  File \"/home/zhach/miniconda2/lib/python2.7/runpy.py\", line 72, in _run_code\n    exec code in run_globals\n  File \"/home/zhach/miniconda2/lib/python2.7/site-packages/ipykernel_launcher.py\", line 16, in <module>\n    app.launch_new_instance()\n  File \"/home/zhach/miniconda2/lib/python2.7/site-packages/traitlets/config/application.py\", line 658, in launch_instance\n    app.start()\n  File \"/home/zhach/miniconda2/lib/python2.7/site-packages/ipykernel/kernelapp.py\", line 478, in start\n    self.io_loop.start()\n  File \"/home/zhach/miniconda2/lib/python2.7/site-packages/zmq/eventloop/ioloop.py\", line 177, in start\n    super(ZMQIOLoop, self).start()\n  File \"/home/zhach/miniconda2/lib/python2.7/site-packages/tornado/ioloop.py\", line 888, in start\n    handler_func(fd_obj, events)\n  File \"/home/zhach/miniconda2/lib/python2.7/site-packages/tornado/stack_context.py\", line 277, in null_wrapper\n    return fn(*args, **kwargs)\n  File \"/home/zhach/miniconda2/lib/python2.7/site-packages/zmq/eventloop/zmqstream.py\", line 440, in _handle_events\n    self._handle_recv()\n  File \"/home/zhach/miniconda2/lib/python2.7/site-packages/zmq/eventloop/zmqstream.py\", line 472, in _handle_recv\n    self._run_callback(callback, msg)\n  File \"/home/zhach/miniconda2/lib/python2.7/site-packages/zmq/eventloop/zmqstream.py\", line 414, in _run_callback\n    callback(*args, **kwargs)\n  File \"/home/zhach/miniconda2/lib/python2.7/site-packages/tornado/stack_context.py\", line 277, in null_wrapper\n    return fn(*args, **kwargs)\n  File \"/home/zhach/miniconda2/lib/python2.7/site-packages/ipykernel/kernelbase.py\", line 281, in dispatcher\n    return self.dispatch_shell(stream, msg)\n  File \"/home/zhach/miniconda2/lib/python2.7/site-packages/ipykernel/kernelbase.py\", line 232, in dispatch_shell\n    handler(stream, idents, msg)\n  File \"/home/zhach/miniconda2/lib/python2.7/site-packages/ipykernel/kernelbase.py\", line 397, in execute_request\n    user_expressions, allow_stdin)\n  File \"/home/zhach/miniconda2/lib/python2.7/site-packages/ipykernel/ipkernel.py\", line 208, in do_execute\n    res = shell.run_cell(code, store_history=store_history, silent=silent)\n  File \"/home/zhach/miniconda2/lib/python2.7/site-packages/ipykernel/zmqshell.py\", line 533, in run_cell\n    return super(ZMQInteractiveShell, self).run_cell(*args, **kwargs)\n  File \"/home/zhach/miniconda2/lib/python2.7/site-packages/IPython/core/interactiveshell.py\", line 2718, in run_cell\n    interactivity=interactivity, compiler=compiler, result=result)\n  File \"/home/zhach/miniconda2/lib/python2.7/site-packages/IPython/core/interactiveshell.py\", line 2822, in run_ast_nodes\n    if self.run_code(code, result):\n  File \"/home/zhach/miniconda2/lib/python2.7/site-packages/IPython/core/interactiveshell.py\", line 2882, in run_code\n    exec(code_obj, self.user_global_ns, self.user_ns)\n  File \"<ipython-input-4-8429fe23228f>\", line 41, in <module>\n    pre_precision = tf.metrics.precision(y, logits)\n  File \"/home/zhach/miniconda2/lib/python2.7/site-packages/tensorflow/python/ops/metrics_impl.py\", line 1380, in precision\n    updates_collections=None, name=None)\n  File \"/home/zhach/miniconda2/lib/python2.7/site-packages/tensorflow/python/ops/metrics_impl.py\", line 1319, in false_positives\n    updates_collections)\n  File \"/home/zhach/miniconda2/lib/python2.7/site-packages/tensorflow/python/ops/metrics_impl.py\", line 1211, in _count_condition\n    count = _create_local('count', shape=[])\n  File \"/home/zhach/miniconda2/lib/python2.7/site-packages/tensorflow/python/ops/metrics_impl.py\", line 197, in _create_local\n    validate_shape=validate_shape)\n  File \"/home/zhach/miniconda2/lib/python2.7/site-packages/tensorflow/python/ops/variables.py\", line 197, in __init__\n    expected_shape=expected_shape)\n  File \"/home/zhach/miniconda2/lib/python2.7/site-packages/tensorflow/python/ops/variables.py\", line 316, in _init_from_args\n    self._snapshot = array_ops.identity(self._variable, name=\"read\")\n  File \"/home/zhach/miniconda2/lib/python2.7/site-packages/tensorflow/python/ops/gen_array_ops.py\", line 1338, in identity\n    result = _op_def_lib.apply_op(\"Identity\", input=input, name=name)\n  File \"/home/zhach/miniconda2/lib/python2.7/site-packages/tensorflow/python/framework/op_def_library.py\", line 768, in apply_op\n    op_def=op_def)\n  File \"/home/zhach/miniconda2/lib/python2.7/site-packages/tensorflow/python/framework/ops.py\", line 2336, in create_op\n    original_op=self._default_original_op, op_def=op_def)\n  File \"/home/zhach/miniconda2/lib/python2.7/site-packages/tensorflow/python/framework/ops.py\", line 1228, in __init__\n    self._traceback = _extract_stack()\n\nFailedPreconditionError (see above for traceback): Attempting to use uninitialized value eval/precision/false_positives/count\n\t [[Node: eval/precision/false_positives/count/read = Identity[T=DT_FLOAT, _class=[\"loc:@eval/precision/false_positives/count\"], _device=\"/job:localhost/replica:0/task:0/cpu:0\"](eval/precision/false_positives/count)]]\n"
     ]
    }
   ],
   "source": [
    "batch_size = 500\n",
    "best_threshold = 0.001\n",
    "\n",
    "log_dir = new_logdir()\n",
    "train_writer = tf.summary.FileWriter(log_dir + '/train', tf.get_default_graph())\n",
    "test_writer = tf.summary.FileWriter(log_dir + '/test')\n",
    "\n",
    "acc_train = 0\n",
    "acc_test = 0\n",
    "acc_test_best = 0\n",
    "steps_since_best = 0\n",
    "best_ckpt = \"\"\n",
    "epoch = 0\n",
    "with tf.Session() as sess:\n",
    "    init.run()\n",
    "    while steps_since_best < 100:\n",
    "        X_batch, y_batch = make_batch(X_train_l4, y_train_l4, batch_size)\n",
    "        sess.run(train, feed_dict={X:X_batch, y:y_batch})\n",
    "        acc_train, train_sum, pre_train, pre_train_sum = sess.run(\n",
    "            [accuracy, acc_sum, precision, pre_sum],\n",
    "            feed_dict={X:X_batch, y:y_batch})\n",
    "        acc_test, test_sum, pre_test, pre_test_sum = sess.run(\n",
    "            [accuracy, acc_sum, precision, pre_sum],\n",
    "            feed_dict={X:X_test_l4, y:y_test_l4})\n",
    "        train_writer.add_summary(train_sum, epoch)\n",
    "        train_writer.add_summary(pre_train_sum, epoch)\n",
    "        test_writer.add_summary(test_sum, epoch)\n",
    "        test_writer.add_summary(pre_test_sum, epoch)\n",
    "        if epoch % 10 == 0:\n",
    "            print(epoch, \"Train/Test accuracy:\", acc_train, acc_test, \"| Train/Test Precision:\", pre_train, pre_test)\n",
    "        steps_since_best += 1\n",
    "        epoch += 1\n",
    "        if acc_test_best < acc_test:\n",
    "            if acc_test_best + best_threshold < acc_test:\n",
    "                steps_since_best = 0\n",
    "            acc_test_best = acc_test\n",
    "            best_ckpt = saver.save(sess, \"./ckpts/epoch_\" + str(epoch) + \".ckpt\")\n",
    "    saver.restore(sess, best_ckpt)\n",
    "    save_path = saver.save(sess, \"./my_model_final.ckpt\")\n",
    "\n",
    "train_writer.close()\n",
    "test_writer.close()"
   ]
  },
  {
   "cell_type": "code",
   "execution_count": null,
   "metadata": {},
   "outputs": [],
   "source": []
  }
 ],
 "metadata": {
  "kernelspec": {
   "display_name": "Python 2",
   "language": "python",
   "name": "python2"
  },
  "language_info": {
   "codemirror_mode": {
    "name": "ipython",
    "version": 2
   },
   "file_extension": ".py",
   "mimetype": "text/x-python",
   "name": "python",
   "nbconvert_exporter": "python",
   "pygments_lexer": "ipython2",
   "version": "2.7.14"
  }
 },
 "nbformat": 4,
 "nbformat_minor": 2
}
