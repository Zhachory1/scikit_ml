{
 "cells": [
  {
   "cell_type": "markdown",
   "metadata": {},
   "source": [
    "# Exercise 1 "
   ]
  },
  {
   "cell_type": "markdown",
   "metadata": {},
   "source": [
    "What Linear Regression training algorithm can you use if you have a training set with millions of features? "
   ]
  },
  {
   "cell_type": "markdown",
   "metadata": {},
   "source": [
    "Stochastic or Gradient Descent"
   ]
  },
  {
   "cell_type": "markdown",
   "metadata": {},
   "source": [
    "# Exercise 2 "
   ]
  },
  {
   "cell_type": "markdown",
   "metadata": {},
   "source": [
    "Suppose the features in your training set have very different scales. What algorithms might suffer from this and how? What can you do about it?"
   ]
  },
  {
   "cell_type": "markdown",
   "metadata": {},
   "source": [
    "All the Gradient Descent algorithms would take a long time to converge. If the features are at different scales, the derivative (or slope) at a given point would be very different when compared to features with similar scales. Because of this, it would take a long time for the algorithm to converge.  \n",
    "\n",
    "You can solve this by Scaling all the feature down to either the [0, 1] or [-1, 1] scale."
   ]
  },
  {
   "cell_type": "markdown",
   "metadata": {},
   "source": [
    "# Exercise 3 "
   ]
  },
  {
   "cell_type": "markdown",
   "metadata": {},
   "source": [
    "Can Gradient Descent get stuck in a local minimum when training a Logistic Regression Model?"
   ]
  },
  {
   "cell_type": "markdown",
   "metadata": {},
   "source": [
    "No it cannot. The cost function for Logistic Regression is convex (bowl like) so it's local minimum is it's global minimum."
   ]
  },
  {
   "cell_type": "markdown",
   "metadata": {},
   "source": [
    "# Exercise 4"
   ]
  },
  {
   "cell_type": "markdown",
   "metadata": {},
   "source": [
    "Do all Gradient Descent algorithms lead to the same model provided you let them run long enough?"
   ]
  },
  {
   "cell_type": "markdown",
   "metadata": {},
   "source": [
    "Theoritically, yes, as long the learning rate is not too high. If the learning rate is set correctly, Batch will always converge onto it. However Stochastic and Mini-batch has a touch of randomness set upon it. It's really hard for it to converge onto the optimum model. However, if the time constraints were infinite, then yes, there is a chance they would converge."
   ]
  },
  {
   "cell_type": "markdown",
   "metadata": {},
   "source": [
    "# Exercise 5"
   ]
  },
  {
   "cell_type": "markdown",
   "metadata": {},
   "source": [
    "Suppose you use Batch Gradient Descent and you plot the validation error at every epoch. If you notice that the validation error consistently goes up, what is likely going on? How can you fix this?"
   ]
  },
  {
   "cell_type": "markdown",
   "metadata": {},
   "source": [
    "Either the model is overfitting the training data or your learning rate is too high. To see what the problem is, you must plot the training error as well. If they are both going up, lower the learning rate. If training is going down and validation is going up, the model is overfitting. You can fix this by tweaking hyperparameters, adding more training data, and/or add regularization to the model."
   ]
  },
  {
   "cell_type": "markdown",
   "metadata": {},
   "source": [
    "# Exercise 6"
   ]
  },
  {
   "cell_type": "markdown",
   "metadata": {},
   "source": [
    "Is it a good idea to stop Mini-batch Gradient Descent immediately when the validation error goes up?"
   ]
  },
  {
   "cell_type": "markdown",
   "metadata": {},
   "source": [
    "No it is not. Just because the error rose doesnt necessarily mean that it reached it's global minimum. Especially with the random nature of Mini-batch. It's a better idea to stop whenever the validation error goes above a certain margin respective to the previously found minimum."
   ]
  },
  {
   "cell_type": "markdown",
   "metadata": {},
   "source": [
    "# Exercise 7"
   ]
  },
  {
   "cell_type": "markdown",
   "metadata": {},
   "source": [
    "Which Gradient Descent algorithm will reach the vicinity of the optimal solution the fastest? Will it actually converge? How can you make the others converge as well?"
   ]
  },
  {
   "cell_type": "markdown",
   "metadata": {},
   "source": [
    "Stochastic will most likely get you near the optimal solution the fastest, but it will most definitely not converge. However if you add a good learning schedule on them, it might have an easier time converging."
   ]
  },
  {
   "cell_type": "markdown",
   "metadata": {},
   "source": [
    "# Exercise 8"
   ]
  },
  {
   "cell_type": "markdown",
   "metadata": {},
   "source": [
    "Suppose you are using Polynomial Regression. You plot the learning curves and you notice that there is a large gap between the training error and the validation error. What is happening? What are three ways to solve this?"
   ]
  },
  {
   "cell_type": "markdown",
   "metadata": {},
   "source": [
    "Model overfit. Don't dumb. Less poly. More regular. Much data."
   ]
  },
  {
   "cell_type": "markdown",
   "metadata": {},
   "source": [
    "# Exercise 9"
   ]
  },
  {
   "cell_type": "markdown",
   "metadata": {},
   "source": [
    "Suppose you are using Ridge Regression and you notice that the training error and the validation error are almost equal and very high. Would you say the model suffers from high bias or high variance? Should you increase alpha or reduce it?"
   ]
  },
  {
   "cell_type": "markdown",
   "metadata": {},
   "source": [
    "It most likely suffers from bias. It's underfitting the data. So you should reduce regularization/alpha."
   ]
  },
  {
   "cell_type": "markdown",
   "metadata": {},
   "source": [
    "# Exercise 10"
   ]
  },
  {
   "cell_type": "markdown",
   "metadata": {},
   "source": [
    "Why would you want to use:\n",
    "* Ridge instead of plain Linear?\n",
    "* Lasso over Ridge?\n",
    "* Elastic over Lasso?"
   ]
  },
  {
   "cell_type": "markdown",
   "metadata": {},
   "source": [
    "* I would use ridge prefereably over linear because it's always good to have a little bit of regularization.\n",
    "* I would use lasso if I knew that some of the feature could be taken out.\n",
    "* I would use elastic over lasso because lasso can be quite erratic when # of features outweigh # of samples or when several features are strongly correlated."
   ]
  },
  {
   "cell_type": "markdown",
   "metadata": {},
   "source": [
    "# Exercise 11"
   ]
  },
  {
   "cell_type": "markdown",
   "metadata": {},
   "source": [
    "Suppose you want to classify pictures outdoor/indoor and daytime/nighttime. Should you implement 2 Logistic Regression Classifiers or one Softmax Regression Classifier?"
   ]
  },
  {
   "cell_type": "markdown",
   "metadata": {},
   "source": [
    "I would use 2 Logistic Regression Classifiers because the are not exclusive classes. Meaning it can be daytime AND you can be outside. However, you can combine the classes to have 4 classes like \"day-out\", \"day-in\", \"night-out\", and \"night-in.\" At that point you can use Softmax."
   ]
  },
  {
   "cell_type": "markdown",
   "metadata": {},
   "source": [
    "# Exercise 12"
   ]
  },
  {
   "cell_type": "markdown",
   "metadata": {},
   "source": [
    "Implement Batch Gradient Descent with early stopping for Softmax Regression (without Scikit)."
   ]
  },
  {
   "cell_type": "code",
   "execution_count": 36,
   "metadata": {},
   "outputs": [
    {
     "name": "stdout",
     "output_type": "stream",
     "text": [
      "Theta:  [[ 0.6403056   0.88418567  0.73619156]\n",
      " [ 0.13851707  0.01628565  0.75837502]\n",
      " [ 0.18859991  0.13391533  0.98557961]\n",
      " [ 0.46350179  0.11164916  0.88768417]\n",
      " [ 0.3172996   0.89023537  0.01653488]]\n",
      "0.379776740026 0.392655030539\n"
     ]
    },
    {
     "data": {
      "image/png": "[encoded data removed]",
      "text/plain": [
       "<matplotlib.figure.Figure at 0x7ff164b55e90>"
      ]
     },
     "metadata": {},
     "output_type": "display_data"
    }
   ],
   "source": [
    "import numpy as np\n",
    "from sklearn import datasets\n",
    "from sklearn.preprocessing import LabelBinarizer\n",
    "import matplotlib.pyplot as plt\n",
    "%matplotlib inline\n",
    "\n",
    "iris = datasets.load_iris()\n",
    "data = iris[\"data\"]\n",
    "target = iris[\"target\"]\n",
    "X_b = np.c_[data, np.ones((data.shape[0], 1))]\n",
    "\n",
    "# ONLY USING THIS FOR LABEL MANIP! NOT ACTUAL MACHINE LEARNING!\n",
    "lb = LabelBinarizer()\n",
    "y = lb.fit_transform(target)\n",
    "\n",
    "rands = np.random.permutation(X_b.shape[0])\n",
    "test_size = int(len(data) * 0.1)\n",
    "test_ixs = rands[:test_size]\n",
    "train_ixs = rands[test_size:]\n",
    "X_train, X_test = X_b[train_ixs], X_b[test_ixs]\n",
    "y_train, y_test = y[train_ixs], y[test_ixs]\n",
    "\n",
    "# Thetas are in columns\n",
    "theta = np.random.random((X_train.shape[1], y_train.shape[1]))\n",
    "print \"Theta: \", theta\n",
    "\n",
    "def sm_pred(X):\n",
    "    proba = sm_proba(X)\n",
    "    return np.argmax(proba, axis=1)\n",
    "\n",
    "def sm_proba(X):\n",
    "    score = theta.T.dot(X.T)\n",
    "    total_scores = np.sum(score, axis=0).reshape(-1, 1)\n",
    "    return (score.T / total_scores)\n",
    "\n",
    "def sm_cost(X, y):\n",
    "    # Basically log-loss\n",
    "    proba = sm_proba(X)\n",
    "    m = X.shape[0]\n",
    "    if (proba < 0.0).any():\n",
    "        negative = (proba < 0.0)\n",
    "        proba[negative] = 1e-15\n",
    "    y_times_log_p = y * np.log(proba)\n",
    "    return (y_times_log_p.sum() / m)\n",
    "    \n",
    "def sm_grad_descent(X, y):\n",
    "    proba = sm_proba(X)\n",
    "    m = X.shape[0]\n",
    "    pre_grads =(proba - y).T.dot(X)\n",
    "    return pre_grads.T / m\n",
    "    \n",
    "eta = 0.5\n",
    "previous_validation_score = 100000\n",
    "validation_score = 99999\n",
    "\n",
    "train_err = []\n",
    "val_err = []\n",
    "\n",
    "# Start BGD\n",
    "while True:\n",
    "    gradients = sm_grad_descent(X_train, y_train)\n",
    "    theta = theta - eta * gradients\n",
    "    train_err.append(-sm_cost(X_train, y_train))\n",
    "    previous_validation_score = validation_score\n",
    "    validation_score = -sm_cost(X_test, y_test)\n",
    "    val_err.append(validation_score)\n",
    "    if abs(validation_score - previous_validation_score) < 1e-8:\n",
    "        break\n",
    "print train_err[-1], val_err[-1]\n",
    "plt.plot(np.arange(0, len(train_err)), train_err, 'r', np.arange(0, len(train_err)), val_err, 'b')\n",
    "plt.show()"
   ]
  },
  {
   "cell_type": "code",
   "execution_count": 34,
   "metadata": {},
   "outputs": [
    {
     "name": "stdout",
     "output_type": "stream",
     "text": [
      "[0 0 2 2 1 1 2 0 2 1] [0 0 2 2 1 2 2 0 2 1]\n"
     ]
    }
   ],
   "source": [
    "print sm_pred(X_test[:10]), np.argmax(y_test[:10], axis=1)"
   ]
  },
  {
   "cell_type": "code",
   "execution_count": null,
   "metadata": {},
   "outputs": [],
   "source": []
  }
 ],
 "metadata": {
  "celltoolbar": "Raw Cell Format",
  "kernelspec": {
   "display_name": "Python 2",
   "language": "python",
   "name": "python2"
  },
  "language_info": {
   "codemirror_mode": {
    "name": "ipython",
    "version": 2
   },
   "file_extension": ".py",
   "mimetype": "text/x-python",
   "name": "python",
   "nbconvert_exporter": "python",
   "pygments_lexer": "ipython2",
   "version": "2.7.13"
  }
 },
 "nbformat": 4,
 "nbformat_minor": 2
}
