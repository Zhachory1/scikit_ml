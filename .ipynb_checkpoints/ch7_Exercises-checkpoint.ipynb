{
 "cells": [
  {
   "cell_type": "markdown",
   "metadata": {},
   "source": [
    "### Exercise 1\n",
    "Is there any chance that you can combine models with high accuracy to get better results.\n",
    "Si. Law of Large Numbers, bitch.\n",
    "\n",
    "### Exercise 2\n",
    "Hard voting is by highest count, Soft voting is by average.\n",
    "\n",
    "### Exercise 3\n",
    "To get performance enhancements, the parts of training that needs to be split need to be independent of each other. The bagging, pasting, and random forests can be sped up with distributed services, because they all thrain different models at the same time. But boosting and stacking ensembles can't. Boosting required previous models to enhance their own and stacking requires the last layer to enhance their own. Distributing the training per stacking layer would enhance performance though.\n",
    "\n",
    "### Exercise 4\n",
    "The benefit of out-of-the-bag evaluations is you get a testing set out of the box since each predictor samples a part of the training set, the other part can be used as a testing set for the same model.\n",
    "\n",
    "### Exercise 5\n",
    "Extra-trees are different from Random Forests because instead of finding the optimal split for features, ETs pick random values to make trees. ETs are usually very easy to train, but they generally underfit the data.\n",
    "\n",
    "### Exercise 6\n",
    "If an AdaBoost is underfitting the data, one would increase the learning parameters. \n",
    "\n",
    "### Exercise 7\n",
    "You should decrease the learning rate if your gradient boosting ensemble is overfitting your data."
   ]
  }
 ],
 "metadata": {
  "kernelspec": {
   "display_name": "Python 2",
   "language": "python",
   "name": "python2"
  },
  "language_info": {
   "codemirror_mode": {
    "name": "ipython",
    "version": 2
   },
   "file_extension": ".py",
   "mimetype": "text/x-python",
   "name": "python",
   "nbconvert_exporter": "python",
   "pygments_lexer": "ipython2",
   "version": "2.7.14"
  }
 },
 "nbformat": 4,
 "nbformat_minor": 2
}
