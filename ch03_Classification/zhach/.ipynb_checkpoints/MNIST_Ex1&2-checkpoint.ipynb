{
 "cells": [
  {
   "cell_type": "code",
   "execution_count": 1,
   "metadata": {},
   "outputs": [],
   "source": [
    "import matplotlib\n",
    "import matplotlib.pyplot as plt\n",
    "import numpy as np\n",
    "from sklearn.base import BaseEstimator, TransformerMixin\n",
    "from sklearn.datasets import fetch_mldata\n",
    "from sklearn.ensemble import RandomForestClassifier\n",
    "from sklearn.linear_model import SGDClassifier\n",
    "from sklearn.metrics import confusion_matrix, precision_score, recall_score, f1_score, precision_recall_curve, roc_curve, roc_auc_score\n",
    "from sklearn.model_selection import cross_val_score, cross_val_predict, GridSearchCV\n",
    "from sklearn.neighbors import KNeighborsClassifier\n",
    "from sklearn.preprocessing import StandardScaler\n",
    "\n",
    "%matplotlib inline\n",
    "\n",
    "import warnings\n",
    "# warnings.filterwarnings('ignore') # To ingnore warnings entirely\n",
    "warnings.filterwarnings(action=\"once\") # To see warning only once"
   ]
  },
  {
   "cell_type": "code",
   "execution_count": null,
   "metadata": {},
   "outputs": [],
   "source": [
    "mnist = fetch_mldata(\"MNIST original\")\n",
    "X,y = mnist[\"data\"], mnist[\"target\"]\n",
    "X_train, X_test, y_train, y_test = X[:60000], X[60000:], y[:60000], y[60000:]\n",
    "shuffle_index = np.random.permutation(60000)\n",
    "X_train, y_train = X_train[shuffle_index], y_train[shuffle_index]"
   ]
  },
  {
   "cell_type": "markdown",
   "metadata": {},
   "source": [
    "## Exercise 1"
   ]
  },
  {
   "cell_type": "code",
   "execution_count": null,
   "metadata": {},
   "outputs": [],
   "source": [
    "param_grid = {\n",
    "    'n_neighbors': [1, 3, 5, 10, 20], \n",
    "    'weights': ['uniform', 'distance'], \n",
    "    'algorithm': ['ball_tree', 'kd_tree', 'brute'],\n",
    "    'p': [1, 2, 3]\n",
    "}\n",
    "\n",
    "knn_clf = KNeighborsClassifier()\n",
    "grid_search = GridSearchCV(knn_clf, param_grid, cv=5, scoring=\"neg_mean_squared_error\")\n",
    "grid_search.fit(X_train[:1000], y_train[:1000])"
   ]
  },
  {
   "cell_type": "code",
   "execution_count": null,
   "metadata": {},
   "outputs": [],
   "source": [
    "best_model = grid_search.best_estimator_\n",
    "best_model.fit(X_train, y_train)\n",
    "y_test_knn_pred = cross_val_predict(best_model, X_test, y_test, cv=3)\n",
    "f1_score(y_multilabel, y_test_knn_pred, average=\"macro\")"
   ]
  },
  {
   "cell_type": "markdown",
   "metadata": {},
   "source": [
    "## Exercise 2"
   ]
  },
  {
   "cell_type": "markdown",
   "metadata": {},
   "source": [
    "Because KNeighborsClassifier takes FOREVER to train, I will use just SGDClassifier for this exercise."
   ]
  },
  {
   "cell_type": "code",
   "execution_count": null,
   "metadata": {},
   "outputs": [],
   "source": [
    "def MoveUpOne(image):\n",
    "    copy_image = copy(image).reshape((28, 28))\n",
    "    no_top_row = np.delete(copy_image, 0, 0)\n",
    "    new_image = np.r_[np.zeros(28), no_top_row]\n",
    "    return new_image.reshape((784))\n",
    "\n",
    "def MoveDownOne(image):\n",
    "    copy_image = copy(image).reshape((28, 28))\n",
    "    no_bot_row = np.delete(copy_image, 27, 0)\n",
    "    new_image = np.r_[no_bot_row, np.zeros(28)]\n",
    "    return new_image.reshape((784))\n",
    "\n",
    "def MoveLeftOne(image):\n",
    "    copy_image = copy(image).reshape((28, 28))\n",
    "    no_left_col = np.delete(copy_image, 0, 1)\n",
    "    new_image = np.c_[np.zeros(28), no_left_col]\n",
    "    return new_image.reshape((784))\n",
    "\n",
    "def MoveRightOne(image):\n",
    "    copy_image = copy(image).reshape((28, 28))\n",
    "    no_right_col = np.delete(copy_image, 27, 1)\n",
    "    new_image = np.c_[no_right_col, np.zeros(28)]\n",
    "    return new_image.reshape((784))\n",
    "    "
   ]
  },
  {
   "cell_type": "code",
   "execution_count": null,
   "metadata": {},
   "outputs": [],
   "source": [
    "def AddMoreTrain(X, y):\n",
    "    new_X = []\n",
    "    new_y = []\n",
    "    for ix in xrange(len(X)):\n",
    "        image = X[ix]\n",
    "        label = y[ix]\n",
    "        new_X.append(MoveUpOne(image))\n",
    "        new_y.append(label)\n",
    "        new_X.append(MoveDownOne(image))\n",
    "        new_y.append(label)\n",
    "        new_X.append(MoveLeftOne(image))\n",
    "        new_y.append(label)\n",
    "        new_X.append(MoveRightOne(image))\n",
    "        new_y.append(label)\n",
    "    return np.r_[X, new_X], np.r_[y, new_y]                 \n",
    "        "
   ]
  }
 ],
 "metadata": {
  "kernelspec": {
   "display_name": "Python 2",
   "language": "python",
   "name": "python2"
  },
  "language_info": {
   "codemirror_mode": {
    "name": "ipython",
    "version": 2
   },
   "file_extension": ".py",
   "mimetype": "text/x-python",
   "name": "python",
   "nbconvert_exporter": "python",
   "pygments_lexer": "ipython2",
   "version": "2.7.13"
  }
 },
 "nbformat": 4,
 "nbformat_minor": 2
}
