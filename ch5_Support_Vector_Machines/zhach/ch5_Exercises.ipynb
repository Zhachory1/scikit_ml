{
 "cells": [
  {
   "cell_type": "code",
   "execution_count": 17,
   "metadata": {},
   "outputs": [],
   "source": [
    "import numpy as np\n",
    "import pandas as pd\n",
    "import matplotlib.pyplot as plt\n",
    "from sklearn import datasets\n",
    "from sklearn.linear_model import SGDClassifier\n",
    "from sklearn.metrics import confusion_matrix, f1_score, mean_squared_error\n",
    "from sklearn.model_selection import cross_val_score, cross_val_predict, RandomizedSearchCV, train_test_split\n",
    "from sklearn.pipeline import Pipeline\n",
    "from sklearn.preprocessing import StandardScaler, PolynomialFeatures\n",
    "from sklearn.svm import LinearSVC, SVC, LinearSVR, SVR\n",
    "from scipy.stats import reciprocal, uniform\n",
    "\n",
    "%matplotlib inline"
   ]
  },
  {
   "cell_type": "markdown",
   "metadata": {},
   "source": [
    "# Exercise 1"
   ]
  },
  {
   "cell_type": "markdown",
   "metadata": {},
   "source": [
    "What is the fundamental idea behind SVMs?"
   ]
  },
  {
   "cell_type": "markdown",
   "metadata": {},
   "source": [
    "The idea is to get the widest possible street between classes."
   ]
  },
  {
   "cell_type": "markdown",
   "metadata": {},
   "source": [
    "# Exercise 2"
   ]
  },
  {
   "cell_type": "markdown",
   "metadata": {},
   "source": [
    "What is a support vector?"
   ]
  },
  {
   "cell_type": "markdown",
   "metadata": {},
   "source": [
    "They are the instances / samples that define the edge of that wide street. They support the street so when new a new instance arrives, unless it crosses the decision boundries, it won't effect the classifier."
   ]
  },
  {
   "cell_type": "markdown",
   "metadata": {},
   "source": [
    "# Exercise 3"
   ]
  },
  {
   "cell_type": "markdown",
   "metadata": {},
   "source": [
    "Why is it important to scale the inputs when using SVMs?"
   ]
  },
  {
   "cell_type": "markdown",
   "metadata": {},
   "source": [
    "SVMs are sensitive to feature range differences. Having features on different ranges ruins the slop of the hyperplane that is being made and makes it harder to configure and modify to get the best model."
   ]
  },
  {
   "cell_type": "markdown",
   "metadata": {},
   "source": [
    "# Exercise 4"
   ]
  },
  {
   "cell_type": "markdown",
   "metadata": {},
   "source": [
    "Can an SVM classifier output a confidence score when it classifies an instance? What about a probability?"
   ]
  },
  {
   "cell_type": "markdown",
   "metadata": {},
   "source": [
    "Out of the box, no. However, one can easily set a probabilty function by taking the distance the instance has from the main decision boundry into a sigmoid function. "
   ]
  },
  {
   "cell_type": "markdown",
   "metadata": {},
   "source": [
    "# Exercise 5"
   ]
  },
  {
   "cell_type": "markdown",
   "metadata": {},
   "source": [
    "Should you use the primal or the dual form of the SVM problem to train a model on a training set with millions of instances and hundreds of features?"
   ]
  },
  {
   "cell_type": "markdown",
   "metadata": {},
   "source": [
    "So if the number of instances is less than the number of features, dual would be faster to compute. So in this instance, one would prefer the primal solution. However, given that primal is not able to kernelize. and given that we might want to polynomialize the features, I would lean toward dual. Dual allows for kernalization, which makes large degrees of polynomials easier to computer."
   ]
  },
  {
   "cell_type": "markdown",
   "metadata": {},
   "source": [
    "# Exercise 6"
   ]
  },
  {
   "cell_type": "markdown",
   "metadata": {},
   "source": [
    "Say you trained an SVC with an RBF kernel. It seems to underfit the training set: should you increase or decrease gamma? What about C?"
   ]
  },
  {
   "cell_type": "markdown",
   "metadata": {},
   "source": [
    "Increase both gamma and C."
   ]
  },
  {
   "cell_type": "markdown",
   "metadata": {},
   "source": [
    "# Exercise 7"
   ]
  },
  {
   "cell_type": "markdown",
   "metadata": {},
   "source": [
    "How should you set the QP parameters (**H**, **f**, **A**, and **b**) to solve the soft margin linear classifier problem using an off the shelf QP solver?"
   ]
  },
  {
   "cell_type": "markdown",
   "metadata": {},
   "source": [
    "Assume we have H\\`, f\\`, A\\`, and b\\`, which are the parameters you put in the QP for a hard classification. Since we are adding m more parameters to the p vector we have to add a lot of rows and columns to accept it. H will be like H\\`, but will have m more rows and columns filled with zero. f with be like f\\`, but will have an additional m elements with them being filled with the variable, C. b will be like b\\`, but will have an additional m elements filled with 0. and A will be like A\\`, but will have an mXm identity matrix to the right of it, an mXm negative identity matrix underneath that, and all zeros beneath the original A\\` matrix. So you will have a n+m+1X2m matrix. "
   ]
  },
  {
   "cell_type": "markdown",
   "metadata": {},
   "source": [
    "# Exercise 8"
   ]
  },
  {
   "cell_type": "markdown",
   "metadata": {},
   "source": [
    "Train a `LinearSVC` on a linearly seperable dataset. The train an SVC and a SGDClassifier on the same dataset. See if you can get them to produce roughly the same model."
   ]
  },
  {
   "cell_type": "code",
   "execution_count": 52,
   "metadata": {},
   "outputs": [],
   "source": [
    "def plot_dataset(X, y, axes):\n",
    "    plt.plot(X[:, 0][y==0], X[:, 1][y==0], \"bs\")\n",
    "    plt.plot(X[:, 0][y==1], X[:, 1][y==1], \"g^\")\n",
    "    plt.axis(axes)\n",
    "    plt.grid(True, which='both')\n",
    "    plt.xlabel(r\"$x_1$\", fontsize=20)\n",
    "    plt.ylabel(r\"$x_2$\", fontsize=20, rotation=0)\n",
    "    \n",
    "def plot_predictions(clf, axes):\n",
    "    x0s = np.linspace(axes[0], axes[1], 100)\n",
    "    x1s = np.linspace(axes[2], axes[3], 100)\n",
    "    x0, x1 = np.meshgrid(x0s, x1s)\n",
    "    X = np.c_[x0.ravel(), x1.ravel()]\n",
    "    y_pred = clf.predict(X).reshape(x0.shape)\n",
    "    y_decision = clf.decision_function(X).reshape(x0.shape)\n",
    "    plt.contourf(x0, x1, y_pred, cmap=plt.cm.brg, alpha=0.2)\n",
    "    plt.contourf(x0, x1, y_decision, cmap=plt.cm.brg, alpha=0.1)"
   ]
  },
  {
   "cell_type": "code",
   "execution_count": 53,
   "metadata": {},
   "outputs": [],
   "source": [
    "X_blobs, y_blobs = datasets.make_blobs(n_samples=100, centers=2, cluster_std=1.25)\n",
    "# plot_dataset(X_blobs, y_blobs, [-15, 15, -15, 15])\n",
    "# plt.show()"
   ]
  },
  {
   "cell_type": "code",
   "execution_count": 54,
   "metadata": {},
   "outputs": [],
   "source": [
    "lin_svc = Pipeline((\n",
    "    (\"scaler\", StandardScaler()),\n",
    "    (\"lin_svc\", LinearSVC(C=5, loss=\"hinge\"))\n",
    ")) \n",
    "unused = lin_svc.fit(X_blobs, y_blobs)"
   ]
  },
  {
   "cell_type": "code",
   "execution_count": 55,
   "metadata": {},
   "outputs": [
    {
     "data": {
      "image/png": "[encoded data removed]",
      "text/plain": [
       "<matplotlib.figure.Figure at 0x7f8a1d30f510>"
      ]
     },
     "metadata": {},
     "output_type": "display_data"
    }
   ],
   "source": [
    "plot_predictions(lin_svc, [-15, 15, -15, 15])\n",
    "plot_dataset(X_blobs, y_blobs, [-15, 15, -15, 15])\n",
    "plt.show()"
   ]
  },
  {
   "cell_type": "code",
   "execution_count": 60,
   "metadata": {},
   "outputs": [],
   "source": [
    "poly_kernel_svm_clf = Pipeline((\n",
    "    (\"scaler\", StandardScaler()),\n",
    "    (\"svm_clf\", SVC(kernel=\"linear\", C=5))\n",
    "))\n",
    "unused = poly_kernel_svm_clf.fit(X_blobs, y_blobs)"
   ]
  },
  {
   "cell_type": "code",
   "execution_count": 61,
   "metadata": {},
   "outputs": [
    {
     "data": {
      "image/png": "[encoded data removed]",
      "text/plain": [
       "<matplotlib.figure.Figure at 0x7f8a1536c790>"
      ]
     },
     "metadata": {},
     "output_type": "display_data"
    }
   ],
   "source": [
    "plot_predictions(poly_kernel_svm_clf, [-15, 15, -15, 15])\n",
    "plot_dataset(X_blobs, y_blobs, [-15, 15, -15, 15])\n",
    "plt.show()"
   ]
  },
  {
   "cell_type": "code",
   "execution_count": 62,
   "metadata": {},
   "outputs": [],
   "source": [
    "sgd_clf = Pipeline((\n",
    "    (\"scaler\", StandardScaler()),\n",
    "    (\"sgd_clf\", SGDClassifier())\n",
    "))\n",
    "unused = sgd_clf.fit(X_blobs, y_blobs)"
   ]
  },
  {
   "cell_type": "code",
   "execution_count": 63,
   "metadata": {},
   "outputs": [
    {
     "data": {
      "image/png": "[encoded data removed]",
      "text/plain": [
       "<matplotlib.figure.Figure at 0x7f8a15269710>"
      ]
     },
     "metadata": {},
     "output_type": "display_data"
    }
   ],
   "source": [
    "plot_predictions(sgd_clf, [-15, 15, -15, 15])\n",
    "plot_dataset(X_blobs, y_blobs, [-15, 15, -15, 15])\n",
    "plt.show()"
   ]
  },
  {
   "cell_type": "markdown",
   "metadata": {},
   "source": [
    "# Exercise 9"
   ]
  },
  {
   "cell_type": "markdown",
   "metadata": {},
   "source": [
    "Train an SVM classifier on the MNIST dataset. Since SVM classifiers are binary classifiers, you will need to use one-versus-all to classify all 10 digits. You may want to tune the hyperparameters using small validation sets to speed up the process. What accuracy can you reach?"
   ]
  },
  {
   "cell_type": "code",
   "execution_count": 77,
   "metadata": {},
   "outputs": [
    {
     "name": "stdout",
     "output_type": "stream",
     "text": [
      " Data in memory\n"
     ]
    }
   ],
   "source": [
    "mnist = datasets.fetch_mldata(\"MNIST original\")\n",
    "X,y = mnist[\"data\"], mnist[\"target\"]\n",
    "X_train, X_test, y_train, y_test = X[:60000], X[60000:], y[:60000], y[60000:]\n",
    "shuffle_index =a np.random.permutation(60000)\n",
    "X_train, y_train = X_train[shuffle_index], y_train[shuffle_index]\n",
    "shuffle_index = np.random.permutation(10000)\n",
    "X_test, y_test = X_test[shuffle_index], y_test[shuffle_index]\n",
    "print \"Data in memory\""
   ]
  },
  {
   "cell_type": "code",
   "execution_count": 132,
   "metadata": {},
   "outputs": [],
   "source": [
    "train_s = 5000\n",
    "test_s = 100"
   ]
  },
  {
   "cell_type": "code",
   "execution_count": 135,
   "metadata": {},
   "outputs": [
    {
     "name": "stdout",
     "output_type": "stream",
     "text": [
      "Train Accuracy:  0.861801848116\n",
      "Train F1:  0.860259631649\n",
      "Test Accuracy:  0.748383838384\n",
      "Test F1:  0.736936800057\n"
     ]
    }
   ],
   "source": [
    "mnist_lin_svc = Pipeline((\n",
    "    (\"scaler\", StandardScaler()),\n",
    "    (\"lin_svc\", LinearSVC(C=0.005, loss=\"hinge\"))\n",
    "))\n",
    "unused = mnist_lin_svc.fit(X_train[:train_s], y_train[:train_s])\n",
    "y_train_svc_pred = cross_val_predict(mnist_lin_svc, X_train[:train_s], y_train[:train_s], cv=5)\n",
    "print \"Train Accuracy: \", cross_val_score(mnist_lin_svc, X_train[:train_s], y_train[:train_s], cv=5, scoring=\"accuracy\").mean()\n",
    "print \"Train F1: \", f1_score(y_train[:train_s], y_train_svc_pred, average=\"macro\")\n",
    "y_test_svc_pred = cross_val_predict(mnist_lin_svc, X_test[:test_s], y_test[:test_s], cv=5)\n",
    "print \"Test Accuracy: \", cross_val_score(mnist_lin_svc, X_test[:test_s], y_test[:test_s], cv=5, scoring=\"accuracy\").mean()\n",
    "print \"Test F1: \", f1_score(y_test[:test_s], y_test_svc_pred, average=\"macro\")"
   ]
  },
  {
   "cell_type": "code",
   "execution_count": 138,
   "metadata": {},
   "outputs": [
    {
     "name": "stdout",
     "output_type": "stream",
     "text": [
      "Train Accuracy:  0.588971212264\n",
      "Train F1:  0.590254533208\n",
      "Test Accuracy:  0.181439393939\n",
      "Test F1:  0.126239316239\n"
     ]
    }
   ],
   "source": [
    "mnist_poly_svc = Pipeline((\n",
    "    (\"scaler\", StandardScaler()),\n",
    "    (\"poly_svc\", SVC(kernel=\"poly\", degree=2, C=0.1))\n",
    "))\n",
    "unused = mnist_poly_svc.fit(X_train[:train_s], y_train[:train_s])\n",
    "y_train_svc_pred = cross_val_predict(mnist_poly_svc, X_train[:train_s], y_train[:train_s], cv=5)\n",
    "print \"Train Accuracy: \", cross_val_score(mnist_poly_svc, X_train[:train_s], y_train[:train_s], cv=5, scoring=\"accuracy\").mean()\n",
    "print \"Train F1: \", f1_score(y_train[:train_s], y_train_svc_pred, average=\"macro\")\n",
    "y_test_svc_pred = cross_val_predict(mnist_poly_svc, X_test[:test_s], y_test[:test_s], cv=5)\n",
    "print \"Test Accuracy: \", cross_val_score(mnist_poly_svc, X_test[:test_s], y_test[:test_s], cv=5, scoring=\"accuracy\").mean()\n",
    "print \"Test F1: \", f1_score(y_test[:test_s], y_test_svc_pred, average=\"macro\")"
   ]
  },
  {
   "cell_type": "code",
   "execution_count": 131,
   "metadata": {},
   "outputs": [
    {
     "name": "stdout",
     "output_type": "stream",
     "text": [
      "Train Accuracy:  0.74182597264\n",
      "Train F1:  0.733523190843\n",
      "Test Accuracy:  0.247171717172\n",
      "Test F1:  0.106628481581\n"
     ]
    }
   ],
   "source": [
    "mnist_rbf_svc = Pipeline((\n",
    "    (\"scaler\", StandardScaler()),\n",
    "    (\"rbf_svc\", SVC(kernel=\"rbf\", gamma=1e-4, C=1))\n",
    "))\n",
    "unused = mnist_rbf_svc.fit(X_train[:train_s], y_train[:train_s])\n",
    "y_train_svc_pred = cross_val_predict(mnist_rbf_svc, X_train[:train_s], y_train[:train_s], cv=5)\n",
    "print \"Train Accuracy: \", cross_val_score(mnist_rbf_svc, X_train[:train_s], y_train[:train_s], cv=5, scoring=\"accuracy\").mean()\n",
    "print \"Train F1: \", f1_score(y_train[:train_s], y_train_svc_pred, average=\"macro\")\n",
    "y_test_svc_pred = cross_val_predict(mnist_rbf_svc, X_test[:test_s], y_test[:test_s], cv=5)\n",
    "print \"Test Accuracy: \", cross_val_score(mnist_rbf_svc, X_test[:test_s], y_test[:test_s], cv=5, scoring=\"accuracy\").mean()\n",
    "print \"Test F1: \", f1_score(y_test[:test_s], y_test_svc_pred, average=\"macro\")"
   ]
  },
  {
   "cell_type": "markdown",
   "metadata": {},
   "source": [
    "# Best Model was LinearSVC"
   ]
  },
  {
   "cell_type": "code",
   "execution_count": 139,
   "metadata": {},
   "outputs": [
    {
     "name": "stdout",
     "output_type": "stream",
     "text": [
      "Train Accuracy:  0.904999712352\n",
      "Train F1:  0.903643962404\n",
      "Test Accuracy:  0.889102137881\n",
      "Test F1:  0.887302219332\n"
     ]
    }
   ],
   "source": [
    "unused = mnist_lin_svc.fit(X_train, y_train)\n",
    "y_train_svc_pred = cross_val_predict(mnist_lin_svc, X_train, y_train, cv=5)\n",
    "print \"Train Accuracy: \", cross_val_score(mnist_lin_svc, X_train, y_train, cv=5, scoring=\"accuracy\").mean()\n",
    "print \"Train F1: \", f1_score(y_train, y_train_svc_pred, average=\"macro\")\n",
    "y_test_svc_pred = cross_val_predict(mnist_lin_svc, X_test, y_test, cv=5)\n",
    "print \"Test Accuracy: \", cross_val_score(mnist_lin_svc, X_test, y_test, cv=5, scoring=\"accuracy\").mean()\n",
    "print \"Test F1: \", f1_score(y_test, y_test_svc_pred, average=\"macro\")"
   ]
  },
  {
   "cell_type": "markdown",
   "metadata": {},
   "source": [
    "# Exercise 10"
   ]
  },
  {
   "cell_type": "markdown",
   "metadata": {},
   "source": [
    "Train an SVM regressor on the California housing dataset."
   ]
  },
  {
   "cell_type": "code",
   "execution_count": 27,
   "metadata": {},
   "outputs": [],
   "source": [
    "housing = datasets.fetch_california_housing()\n",
    "X = housing[\"data\"]\n",
    "y = housing[\"target\"]"
   ]
  },
  {
   "cell_type": "code",
   "execution_count": 28,
   "metadata": {},
   "outputs": [],
   "source": [
    "X_t, X_v, y_t, y_v = train_test_split(X, y, test_size=0.2)"
   ]
  },
  {
   "cell_type": "code",
   "execution_count": 29,
   "metadata": {},
   "outputs": [],
   "source": [
    "scaler = StandardScaler()\n",
    "X_t_scl = scaler.fit_transform(X_t)\n",
    "X_v_scl = scaler.fit_transform(X_v)"
   ]
  },
  {
   "cell_type": "code",
   "execution_count": 30,
   "metadata": {},
   "outputs": [
    {
     "data": {
      "text/plain": [
       "LinearSVR(C=1.0, dual=True, epsilon=0.0, fit_intercept=True,\n",
       "     intercept_scaling=1.0, loss='epsilon_insensitive', max_iter=1000,\n",
       "     random_state=None, tol=0.0001, verbose=0)"
      ]
     },
     "execution_count": 30,
     "metadata": {},
     "output_type": "execute_result"
    }
   ],
   "source": [
    "lin_svr = LinearSVR()\n",
    "lin_svr.fit(X_t_scl, y_t)"
   ]
  },
  {
   "cell_type": "code",
   "execution_count": 31,
   "metadata": {},
   "outputs": [
    {
     "data": {
      "text/plain": [
       "1.3741918713632491"
      ]
     },
     "execution_count": 31,
     "metadata": {},
     "output_type": "execute_result"
    }
   ],
   "source": [
    "y_pred = lin_svr.predict(X_t_scl)\n",
    "mse = mean_squared_error(y_t, y_pred)\n",
    "np.sqrt(mse)"
   ]
  },
  {
   "cell_type": "code",
   "execution_count": 32,
   "metadata": {},
   "outputs": [
    {
     "name": "stdout",
     "output_type": "stream",
     "text": [
      "Fitting 3 folds for each of 10 candidates, totalling 30 fits\n",
      "[CV] C=4.74540118847, gamma=0.0796945481864 ..........................\n",
      "[CV] ........... C=4.74540118847, gamma=0.0796945481864, total=   6.8s\n",
      "[CV] C=4.74540118847, gamma=0.0796945481864 ..........................\n"
     ]
    },
    {
     "name": "stderr",
     "output_type": "stream",
     "text": [
      "[Parallel(n_jobs=1)]: Done   1 out of   1 | elapsed:    9.5s remaining:    0.0s\n"
     ]
    },
    {
     "name": "stdout",
     "output_type": "stream",
     "text": [
      "[CV] ........... C=4.74540118847, gamma=0.0796945481864, total=   6.8s\n",
      "[CV] C=4.74540118847, gamma=0.0796945481864 ..........................\n",
      "[CV] ........... C=4.74540118847, gamma=0.0796945481864, total=   7.1s\n",
      "[CV] C=8.31993941811, gamma=0.0157513204998 ..........................\n",
      "[CV] ........... C=8.31993941811, gamma=0.0157513204998, total=   9.9s\n",
      "[CV] C=8.31993941811, gamma=0.0157513204998 ..........................\n",
      "[CV] ........... C=8.31993941811, gamma=0.0157513204998, total=   9.0s\n",
      "[CV] C=8.31993941811, gamma=0.0157513204998 ..........................\n",
      "[CV] ........... C=8.31993941811, gamma=0.0157513204998, total=   8.6s\n",
      "[CV] C=2.56018640442, gamma=0.00205111041884 .........................\n",
      "[CV] .......... C=2.56018640442, gamma=0.00205111041884, total=   6.1s\n",
      "[CV] C=2.56018640442, gamma=0.00205111041884 .........................\n",
      "[CV] .......... C=2.56018640442, gamma=0.00205111041884, total=   7.0s\n",
      "[CV] C=2.56018640442, gamma=0.00205111041884 .........................\n",
      "[CV] .......... C=2.56018640442, gamma=0.00205111041884, total=   7.3s\n",
      "[CV] C=1.58083612168, gamma=0.0539948440979 ..........................\n",
      "[CV] ........... C=1.58083612168, gamma=0.0539948440979, total=   6.9s\n",
      "[CV] C=1.58083612168, gamma=0.0539948440979 ..........................\n",
      "[CV] ........... C=1.58083612168, gamma=0.0539948440979, total=   6.8s\n",
      "[CV] C=1.58083612168, gamma=0.0539948440979 ..........................\n",
      "[CV] ........... C=1.58083612168, gamma=0.0539948440979, total=   8.0s\n",
      "[CV] C=7.01115011743, gamma=0.0260702475837 ..........................\n",
      "[CV] ........... C=7.01115011743, gamma=0.0260702475837, total=   7.2s\n",
      "[CV] C=7.01115011743, gamma=0.0260702475837 ..........................\n",
      "[CV] ........... C=7.01115011743, gamma=0.0260702475837, total=   6.5s\n",
      "[CV] C=7.01115011743, gamma=0.0260702475837 ..........................\n",
      "[CV] ........... C=7.01115011743, gamma=0.0260702475837, total=   6.3s\n",
      "[CV] C=1.20584494296, gamma=0.087060208783 ...........................\n",
      "[CV] ............ C=1.20584494296, gamma=0.087060208783, total=   6.2s\n",
      "[CV] C=1.20584494296, gamma=0.087060208783 ...........................\n",
      "[CV] ............ C=1.20584494296, gamma=0.087060208783, total=   6.0s\n",
      "[CV] C=1.20584494296, gamma=0.087060208783 ...........................\n",
      "[CV] ............ C=1.20584494296, gamma=0.087060208783, total=   5.9s\n",
      "[CV] C=9.324426408, gamma=0.00265875439833 ...........................\n",
      "[CV] ............ C=9.324426408, gamma=0.00265875439833, total=   6.1s\n",
      "[CV] C=9.324426408, gamma=0.00265875439833 ...........................\n",
      "[CV] ............ C=9.324426408, gamma=0.00265875439833, total=   6.1s\n",
      "[CV] C=9.324426408, gamma=0.00265875439833 ...........................\n",
      "[CV] ............ C=9.324426408, gamma=0.00265875439833, total=   6.0s\n",
      "[CV] C=2.81824967207, gamma=0.00232706770838 .........................\n",
      "[CV] .......... C=2.81824967207, gamma=0.00232706770838, total=   5.9s\n",
      "[CV] C=2.81824967207, gamma=0.00232706770838 .........................\n",
      "[CV] .......... C=2.81824967207, gamma=0.00232706770838, total=   5.9s\n",
      "[CV] C=2.81824967207, gamma=0.00232706770838 .........................\n",
      "[CV] .......... C=2.81824967207, gamma=0.00232706770838, total=   5.9s\n",
      "[CV] C=4.0424224296, gamma=0.0112076062119 ...........................\n",
      "[CV] ............ C=4.0424224296, gamma=0.0112076062119, total=   6.1s\n",
      "[CV] C=4.0424224296, gamma=0.0112076062119 ...........................\n",
      "[CV] ............ C=4.0424224296, gamma=0.0112076062119, total=   6.0s\n",
      "[CV] C=4.0424224296, gamma=0.0112076062119 ...........................\n",
      "[CV] ............ C=4.0424224296, gamma=0.0112076062119, total=   6.8s\n",
      "[CV] C=5.31945018642, gamma=0.00382347522468 .........................\n",
      "[CV] .......... C=5.31945018642, gamma=0.00382347522468, total=   6.4s\n",
      "[CV] C=5.31945018642, gamma=0.00382347522468 .........................\n",
      "[CV] .......... C=5.31945018642, gamma=0.00382347522468, total=   7.1s\n",
      "[CV] C=5.31945018642, gamma=0.00382347522468 .........................\n",
      "[CV] .......... C=5.31945018642, gamma=0.00382347522468, total=   6.0s\n"
     ]
    },
    {
     "name": "stderr",
     "output_type": "stream",
     "text": [
      "[Parallel(n_jobs=1)]: Done  30 out of  30 | elapsed:  4.9min finished\n"
     ]
    },
    {
     "data": {
      "text/plain": [
       "RandomizedSearchCV(cv=None, error_score='raise',\n",
       "          estimator=SVR(C=1.0, cache_size=200, coef0=0.0, degree=3, epsilon=0.1, gamma='auto',\n",
       "  kernel='rbf', max_iter=-1, shrinking=True, tol=0.001, verbose=False),\n",
       "          fit_params=None, iid=True, n_iter=10, n_jobs=1,\n",
       "          param_distributions={'C': <scipy.stats._distn_infrastructure.rv_frozen object at 0x7f56796ff310>, 'gamma': <scipy.stats._distn_infrastructure.rv_frozen object at 0x7f5678d395d0>},\n",
       "          pre_dispatch='2*n_jobs', random_state=42, refit=True,\n",
       "          return_train_score='warn', scoring=None, verbose=2)"
      ]
     },
     "execution_count": 32,
     "metadata": {},
     "output_type": "execute_result"
    }
   ],
   "source": [
    "param_distributions = {\"gamma\": reciprocal(0.001, 0.1), \"C\": uniform(1, 10)}\n",
    "rnd_search_cv = RandomizedSearchCV(SVR(), param_distributions, n_iter=10, verbose=2, random_state=42)\n",
    "rnd_search_cv.fit(X_t_scl, y_t)"
   ]
  },
  {
   "cell_type": "code",
   "execution_count": 33,
   "metadata": {},
   "outputs": [],
   "source": [
    "be = rnd_search_cv.best_estimator_"
   ]
  },
  {
   "cell_type": "code",
   "execution_count": 34,
   "metadata": {},
   "outputs": [
    {
     "data": {
      "text/plain": [
       "0.57395623759134773"
      ]
     },
     "execution_count": 34,
     "metadata": {},
     "output_type": "execute_result"
    }
   ],
   "source": [
    "y_pred = be.predict(X_t_scl)\n",
    "np.sqrt(mean_squared_error(y_t, y_pred))"
   ]
  },
  {
   "cell_type": "code",
   "execution_count": 35,
   "metadata": {},
   "outputs": [
    {
     "data": {
      "text/plain": [
       "0.58929796231551013"
      ]
     },
     "execution_count": 35,
     "metadata": {},
     "output_type": "execute_result"
    }
   ],
   "source": [
    "y_pred = be.predict(X_v_scl)\n",
    "np.sqrt(mean_squared_error(y_v, y_pred))"
   ]
  },
  {
   "cell_type": "code",
   "execution_count": null,
   "metadata": {},
   "outputs": [],
   "source": []
  }
 ],
 "metadata": {
  "kernelspec": {
   "display_name": "Python 2",
   "language": "python",
   "name": "python2"
  },
  "language_info": {
   "codemirror_mode": {
    "name": "ipython",
    "version": 2
   },
   "file_extension": ".py",
   "mimetype": "text/x-python",
   "name": "python",
   "nbconvert_exporter": "python",
   "pygments_lexer": "ipython2",
   "version": "2.7.13"
  }
 },
 "nbformat": 4,
 "nbformat_minor": 2
}
