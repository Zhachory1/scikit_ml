{
 "cells": [
  {
   "cell_type": "markdown",
   "metadata": {},
   "source": [
    "# Exercise 1\n",
    "What are the main benefits of creating a ocmputation graph rather than directly executing the computations? What are the main drawbacks?\n",
    "\n",
    "Its main benefit is that you can break up the graph efficiently and run operations in parallel to optimize runtime. You can also use that graph in different ways other than computing (like calculating its derivate). The main drawback is that is is more complicated to set up than just writing the equation.\n",
    "\n",
    "# Exercise 2\n",
    "Is the statement `a_val = a.eval(session=sess)` equivalent to  `a_val = sess.run(a)`?\n",
    "\n",
    "Yes, these are the same. They will run the same and procude the same output.\n",
    "\n",
    "# Exercise 3\n",
    "Is the statement `a_val, b_val = a.eval(session=sess), b.eval(session=sess)` equivalent to  `a_val, b_val = sess.run([a, b])`?\n",
    "\n",
    "No. The first statement will run the graph twice, while the second will only go through the graph once, making it faster. They will produce the same output, but the second statement should be prefered.\n",
    "\n",
    "# Exercise 4\n",
    "Can you run 2 graphs in the same session?\n",
    "\n",
    "No! Either merge them, or use two sessions you filthy animal!\n",
    "\n",
    "# Exercise 5\n",
    "If you create a graph g containing a variable w, then start two threads and open a session in each thread, both using the same graph `g`, will each session have its own copy of the variable or will it be shared.\n",
    "\n",
    "Each session will have it's own copy of variable w, UNLESS you declare w as a shared variable OR you are using distributed Tensorflow.\n",
    "\n",
    "\n",
    "# Exercise 6\n",
    "When is a variable initialized? When is it destroyed?\n",
    "\n",
    "A tensorflow variable is initialized whenever its initializer is called inside the session, then is destroyed when ever the session is closed.\n",
    "\n",
    "\n",
    "# Exercise 7\n",
    "What is the difference betweena placeholder and a variable?\n",
    "\n",
    "A variable has a value in it. You can change that value but it keeps it's state between runs. A placeholder however is just an empty space with no value. It is required to fill it with a value if you want to run an operation that depends on it. \n",
    "\n",
    "\n",
    "# Exercise 8\n",
    "What happens when you run the graph to evaluate an operation that depends on a placeholder but you don't deef it's value? What happens if the operation does not depend on a placeholder?\n",
    "\n",
    "It goes ploop and sends back an exception. It it doesn't rely on a placeholder, then you're right as rain, my friend.\n",
    "\n",
    "\n",
    "# Exercise 9\n",
    "When you run a graph, can you feed the output value of any operation, or just the value of the placeholder?\n",
    "\n",
    "You can put in values to any operation, not ust placeholders. However, it is rarely done in practice.\n",
    "\n",
    "\n",
    "# Exercise 10\n",
    "How can you set a variable to any value you want (during the execution phase)?\n",
    "\n",
    "One can use the `assign` operation inside the construction phase to give the user the ability to change the variable.\n",
    "\n",
    "\n",
    "# Exercise 11\n",
    "How many times does reverse-mode auto-diff need to traverse the graph in order to compute the gradients of the cost function with regards to 10 variables? What about forward-mode? What about symbolic differentiation?\n",
    "\n",
    "Depending on the number of outputs, o, it would take o+1 passes, there is no dependence on the number of input variables. For the forward pass, it is dependent on the number of inputs, so it would need to run through the graph 10 times. For symbolic differentiation, it doesn't run through the computation graph to compute the gradients. It computes it off another graph. Technically it goes through the graph once to create the new graph. However, this graph could be terribly complicated and inefficient compared to the original graph."
   ]
  },
  {
   "cell_type": "markdown",
   "metadata": {},
   "source": [
    "# Exercise 12\n",
    "Implement Logistic Regression with Mini Batch Gradient Descent using Tensorflow. Train it and evaluate it on the moons dataset. Try adding all the bells and whistles:\n",
    "* Define the graph within a `logistic_regression()` function that can be reused easily.\n",
    "* Save checkpoints using a `Saver` at regulat intervals during training and save the final model at the end of the training.\n",
    "* Restore the last checkpoint upon startup if training was interrupted.\n",
    "* Define the graph using nice scopes so the graph looks good in Tensorboard.\n",
    "* Add summaries to visualize the learning curves in TB.\n",
    "* Try tweaking some hyperparamters such as the learning rate or the mini batch and look at the shape of the learning curve."
   ]
  },
  {
   "cell_type": "code",
   "execution_count": 1,
   "metadata": {},
   "outputs": [],
   "source": [
    "from sklearn.datasets import make_moons\n",
    "from sklearn.metrics import precision_score, recall_score\n",
    "import tensorflow as tf\n",
    "import numpy as np\n",
    "from datetime import datetime\n",
    "import os\n",
    "\n",
    "%matplotlib inline\n",
    "import matplotlib\n",
    "import matplotlib.pyplot as plt\n",
    "plt.rcParams['axes.labelsize'] = 14\n",
    "plt.rcParams['xtick.labelsize'] = 12\n",
    "plt.rcParams['ytick.labelsize'] = 12\n",
    "\n",
    "m = 1000\n",
    "X_moons, y_moons = make_moons(m, noise=0.05, random_state=42)"
   ]
  },
  {
   "cell_type": "code",
   "execution_count": 2,
   "metadata": {},
   "outputs": [
    {
     "data": {
      "image/png": "[encoded data removed]",
      "text/plain": [
       "<matplotlib.figure.Figure at 0x7fe7850f68d0>"
      ]
     },
     "metadata": {},
     "output_type": "display_data"
    }
   ],
   "source": [
    "plt.plot(X_moons[y_moons == 1, 0], X_moons[y_moons == 1, 1], 'go', label=\"Positive\")\n",
    "plt.plot(X_moons[y_moons == 0, 0], X_moons[y_moons == 0, 1], 'r^', label=\"Negative\")\n",
    "plt.legend()\n",
    "plt.show()"
   ]
  },
  {
   "cell_type": "code",
   "execution_count": 3,
   "metadata": {},
   "outputs": [],
   "source": [
    "X_moons_wb = np.c_[np.ones((m,1)), X_moons]\n",
    "y_moons_vertical = y_moons.reshape(-1, 1)"
   ]
  },
  {
   "cell_type": "code",
   "execution_count": 4,
   "metadata": {},
   "outputs": [],
   "source": [
    "train_size = int(m * 0.8)\n",
    "X_train = X_moons_wb[:train_size]\n",
    "X_test = X_moons_wb[train_size:]\n",
    "y_train = y_moons_vertical[:train_size]\n",
    "y_test = y_moons_vertical[train_size:]\n",
    "\n",
    "# Since this is a non-linear dataset going into a linear model, \n",
    "# I am going to make 4 more features of the squared and cubed\n",
    "# features.\n",
    "X_train_better = np.c_[\n",
    "    X_train,\n",
    "    X_train[:, 1] ** 2,\n",
    "    X_train[:, 2] ** 2,\n",
    "    X_train[:, 1] ** 3,\n",
    "    X_train[:, 2] ** 3,\n",
    "]\n",
    "X_test_better = np.c_[\n",
    "    X_test,\n",
    "    X_test[:, 1] ** 2,\n",
    "    X_test[:, 2] ** 2,\n",
    "    X_test[:, 1] ** 3,\n",
    "    X_test[:, 2] ** 3,\n",
    "]"
   ]
  },
  {
   "cell_type": "code",
   "execution_count": 5,
   "metadata": {},
   "outputs": [],
   "source": [
    "def batch(X, y, size):\n",
    "    idxs = np.random.randint(0, len(X), size)\n",
    "    return X[idxs], y[idxs]"
   ]
  },
  {
   "cell_type": "code",
   "execution_count": 6,
   "metadata": {},
   "outputs": [],
   "source": [
    "def logistic_regression(X, y, l_rate=0.01):\n",
    "    with tf.name_scope(\"lr\"):\n",
    "        with tf.name_scope(\"model\"):\n",
    "            # moons have 2 inputs + a bias\n",
    "            theta = tf.Variable(tf.random_uniform(\n",
    "                [int(X.get_shape()[1]), 1], -1, 1), name=\"theta\")\n",
    "            pre_soft = tf.matmul(X, theta, name=\"presoft\")\n",
    "            y_probs = tf.sigmoid(pre_soft)\n",
    "        with tf.name_scope(\"train\"):\n",
    "            loss = tf.losses.log_loss(y, y_probs, scope=\"loss\")\n",
    "            opt = tf.train.GradientDescentOptimizer(learning_rate=l_rate)\n",
    "            training_op = opt.minimize(loss)\n",
    "            loss_sum = tf.summary.scalar(\"log_loss\", loss)\n",
    "        with tf.name_scope(\"init\"):\n",
    "            init = tf.global_variables_initializer()\n",
    "        with tf.name_scope(\"save\"):\n",
    "            saver = tf.train.Saver()\n",
    "    return training_op, y_probs, loss, loss_sum, init, saver"
   ]
  },
  {
   "cell_type": "code",
   "execution_count": 7,
   "metadata": {},
   "outputs": [],
   "source": [
    "X = tf.placeholder(tf.float32, shape=(None, 7), name=\"X\")\n",
    "y = tf.placeholder(tf.float32, shape=(None, 1), name=\"y\")\n",
    "\n",
    "now = datetime.utcnow().strftime(\"%Y%m%d%H%M%S\")\n",
    "root_logdir = \"tf_logs\"\n",
    "name = \"run-\" + now\n",
    "logdir = \"{}/{}/\".format(root_logdir, name)\n",
    "\n",
    "train, prob, loss, loss_sum, init, saver = logistic_regression(X, y)\n",
    "\n",
    "file_writer = tf.summary.FileWriter(logdir, tf.get_default_graph())"
   ]
  },
  {
   "cell_type": "code",
   "execution_count": 8,
   "metadata": {},
   "outputs": [],
   "source": [
    "n_epochs = 10001\n",
    "batch_size = 50\n",
    "n_batches = int(np.ceil(m / batch_size))\n",
    "\n",
    "checkpoint_path = \"/tmp/my_logreg_model.ckpt\"\n",
    "checkpoint_epoch_path = checkpoint_path + \".epoch\"\n",
    "final_model_path = \"./my_logreg_model\""
   ]
  },
  {
   "cell_type": "code",
   "execution_count": 9,
   "metadata": {},
   "outputs": [
    {
     "name": "stdout",
     "output_type": "stream",
     "text": [
      "('Epoch:', 0, '\\tLoss:', 0.56027991)\n",
      "('Epoch:', 500, '\\tLoss:', 0.16248253)\n",
      "('Epoch:', 1000, '\\tLoss:', 0.11130361)\n",
      "('Epoch:', 1500, '\\tLoss:', 0.086002998)\n",
      "('Epoch:', 2000, '\\tLoss:', 0.070936725)\n",
      "('Epoch:', 2500, '\\tLoss:', 0.060850296)\n",
      "('Epoch:', 3000, '\\tLoss:', 0.053546809)\n",
      "('Epoch:', 3500, '\\tLoss:', 0.048006259)\n",
      "('Epoch:', 4000, '\\tLoss:', 0.043668367)\n",
      "('Epoch:', 4500, '\\tLoss:', 0.040135413)\n",
      "('Epoch:', 5000, '\\tLoss:', 0.037254285)\n",
      "('Epoch:', 5500, '\\tLoss:', 0.034807555)\n",
      "('Epoch:', 6000, '\\tLoss:', 0.032727353)\n",
      "('Epoch:', 6500, '\\tLoss:', 0.030929158)\n",
      "('Epoch:', 7000, '\\tLoss:', 0.029341653)\n",
      "('Epoch:', 7500, '\\tLoss:', 0.027961049)\n",
      "('Epoch:', 8000, '\\tLoss:', 0.026713584)\n",
      "('Epoch:', 8500, '\\tLoss:', 0.025589969)\n",
      "('Epoch:', 9000, '\\tLoss:', 0.024568591)\n",
      "('Epoch:', 9500, '\\tLoss:', 0.023663435)\n",
      "('Epoch:', 10000, '\\tLoss:', 0.022812309)\n"
     ]
    }
   ],
   "source": [
    "with tf.Session() as sess:\n",
    "    if os.path.isfile(checkpoint_epoch_path):\n",
    "        # if the checkpoint file exists, restore the model and load the epoch number\n",
    "        with open(checkpoint_epoch_path, \"rb\") as f:\n",
    "            start_epoch = int(f.read())\n",
    "        print(\"Training was interrupted. Continuing at epoch\", start_epoch)\n",
    "        saver.restore(sess, checkpoint_path)\n",
    "    else:\n",
    "        start_epoch = 0\n",
    "        sess.run(init)\n",
    "\n",
    "    for epoch in range(start_epoch, n_epochs):\n",
    "        for batch_index in range(n_batches):\n",
    "            X_batch, y_batch = batch(X_train_better, y_train, batch_size)\n",
    "            sess.run(train, feed_dict={X: X_batch, y: y_batch})\n",
    "        loss_val, sum_str = sess.run([loss, loss_sum], feed_dict={X: X_test_better, y: y_test})\n",
    "        file_writer.add_summary(sum_str, epoch)\n",
    "        if epoch % 500 == 0:\n",
    "            saver.save(sess, checkpoint_path)\n",
    "            print(\"Epoch:\", epoch, \"\\tLoss:\", loss_val)\n",
    "            with open(checkpoint_epoch_path, \"wb\") as f:\n",
    "                f.write(b\"%d\" % (epoch + 1))\n",
    "\n",
    "    saver.save(sess, final_model_path)\n",
    "    os.remove(checkpoint_epoch_path)    \n",
    "    prob_val = prob.eval(feed_dict={X: X_test_better, y: y_test})"
   ]
  },
  {
   "cell_type": "code",
   "execution_count": 10,
   "metadata": {},
   "outputs": [
    {
     "data": {
      "text/plain": [
       "array([[ True],\n",
       "       [ True],\n",
       "       [ True],\n",
       "       [ True],\n",
       "       [False]], dtype=bool)"
      ]
     },
     "execution_count": 10,
     "metadata": {},
     "output_type": "execute_result"
    }
   ],
   "source": [
    "pred = (prob_val >= 0.5)\n",
    "pred[:5]"
   ]
  },
  {
   "cell_type": "code",
   "execution_count": 11,
   "metadata": {},
   "outputs": [
    {
     "name": "stdout",
     "output_type": "stream",
     "text": [
      "1.0\n",
      "1.0\n"
     ]
    }
   ],
   "source": [
    "print precision_score(y_test, pred)\n",
    "print recall_score(y_test, pred)"
   ]
  },
  {
   "cell_type": "code",
   "execution_count": 12,
   "metadata": {},
   "outputs": [
    {
     "data": {
      "image/png": "[encoded data removed]",
      "text/plain": [
       "<matplotlib.figure.Figure at 0x7fe7850f6b10>"
      ]
     },
     "metadata": {},
     "output_type": "display_data"
    }
   ],
   "source": [
    "pred_idx = pred.reshape(-1) # a 1D array rather than a column vector\n",
    "plt.plot(X_test[pred_idx, 1], X_test[pred_idx, 2], 'go', label=\"Positive\")\n",
    "plt.plot(X_test[~pred_idx, 1], X_test[~pred_idx, 2], 'r^', label=\"Negative\")\n",
    "plt.legend()\n",
    "plt.show()"
   ]
  },
  {
   "cell_type": "code",
   "execution_count": null,
   "metadata": {},
   "outputs": [],
   "source": []
  }
 ],
 "metadata": {
  "kernelspec": {
   "display_name": "Python 2",
   "language": "python",
   "name": "python2"
  },
  "language_info": {
   "codemirror_mode": {
    "name": "ipython",
    "version": 2
   },
   "file_extension": ".py",
   "mimetype": "text/x-python",
   "name": "python",
   "nbconvert_exporter": "python",
   "pygments_lexer": "ipython2",
   "version": "2.7.14"
  }
 },
 "nbformat": 4,
 "nbformat_minor": 2
}
